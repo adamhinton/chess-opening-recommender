{
 "cells": [
  {
   "cell_type": "markdown",
   "id": "3522162b",
   "metadata": {},
   "source": [
    "# Database Performance Analysis\n",
    "\n",
    "### Purpose of this Notebook\n",
    "Our data processing pipeline is experiencing a significant slowdown in write performance. After processing about 20 parquet files, the rate of inserting game statistics has dropped from ~140k games/sec to ~70k games/sec. This notebook aims to diagnose the potential causes of this degradation by thoroughly inspecting the state of our `chess_games.db` DuckDB database.\n",
    "\n",
    "We will investigate:\n",
    "- **Database Size**: How large is the database file?\n",
    "- **Table Counts**: How many players, openings, and player-opening stats entries have we accumulated?\n",
    "- **Partition Health**: How is the data distributed across our partitioned `player_opening_stats` tables? An imbalance could indicate a performance bottleneck.\n",
    "- **Data Skew**: Are a few players or openings responsible for a disproportionate number of records? This could strain the primary key lookups during `UPSERT` operations.\n",
    "\n",
    "By understanding the shape and size of our data, we can better identify whether the slowdown is a temporary issue that will level off or a systemic problem that requires architectural changes."
   ]
  },
  {
   "cell_type": "code",
   "execution_count": 5,
   "id": "20ba8c02",
   "metadata": {},
   "outputs": [
    {
     "name": "stdout",
     "output_type": "stream",
     "text": [
      "Database path: /Users/a/Documents/personalprojects/chess-opening-recommender/data/processed/chess_games.db\n",
      "Database exists: True\n"
     ]
    }
   ],
   "source": [
    "import duckdb\n",
    "import pandas as pd\n",
    "from pathlib import Path\n",
    "import sys\n",
    "import os\n",
    "\n",
    "# Ensure the project root is in the system path to allow for absolute imports\n",
    "project_root = Path.cwd()\n",
    "if \"notebooks\" in str(project_root):\n",
    "    project_root = project_root.parent\n",
    "\n",
    "if str(project_root) not in sys.path:\n",
    "    sys.path.insert(0, str(project_root))\n",
    "\n",
    "from notebooks.utils.database.db_utils import get_db_connection\n",
    "\n",
    "# --- Configuration ---\n",
    "# Define the path to the DuckDB database file.\n",
    "db_path = project_root / \"data\" / \"processed\" / \"chess_games.db\"\n",
    "\n",
    "# Set pandas display options for better readability\n",
    "pd.set_option('display.float_format', '{:,.2f}'.format)\n",
    "\n",
    "print(f\"Database path: {db_path}\")\n",
    "print(f\"Database exists: {db_path.exists()}\")"
   ]
  },
  {
   "cell_type": "markdown",
   "id": "47e6a06e",
   "metadata": {},
   "source": [
    "## 1. High-Level Database Statistics\n",
    "\n",
    "First, let's get a high-level overview of the database. We'll check the file size and the total number of records in our main tables: `player`, `opening`, and the unified `player_opening_stats` view. This will give us a sense of the overall scale of the data."
   ]
  },
  {
   "cell_type": "code",
   "execution_count": 6,
   "id": "c868cbf7",
   "metadata": {},
   "outputs": [
    {
     "name": "stdout",
     "output_type": "stream",
     "text": [
      "Database file size: 569.51 MB\n",
      "\n",
      "--- Database Record Counts ---\n",
      "                    Metric     Count\n",
      "             Total Players    47,192\n",
      "            Total Openings     3,093\n",
      "Total Player-Opening Stats 5,067,594\n"
     ]
    }
   ],
   "source": [
    "try:\n",
    "    db_size_bytes = os.path.getsize(db_path)\n",
    "    db_size_mb = db_size_bytes / (1024 * 1024)\n",
    "    print(f\"Database file size: {db_size_mb:.2f} MB\")\n",
    "except FileNotFoundError:\n",
    "    print(\"Database file not found.\")\n",
    "    db_size_mb = 0\n",
    "\n",
    "if db_size_mb > 0:\n",
    "    with get_db_connection(db_path) as con:\n",
    "        num_players = con.execute(\"SELECT COUNT(*) FROM player\").fetchone()[0]\n",
    "        num_openings = con.execute(\"SELECT COUNT(*) FROM opening\").fetchone()[0]\n",
    "        num_player_opening_stats = con.execute(\"SELECT COUNT(*) FROM player_opening_stats\").fetchone()[0]\n",
    "\n",
    "        summary_data = {\n",
    "            \"Metric\": [\"Total Players\", \"Total Openings\", \"Total Player-Opening Stats\"],\n",
    "            \"Count\": [num_players, num_openings, num_player_opening_stats]\n",
    "        }\n",
    "        summary_df = pd.DataFrame(summary_data)\n",
    "        summary_df[\"Count\"] = summary_df[\"Count\"].apply('{:,.0f}'.format)\n",
    "\n",
    "        print(\"\\n--- Database Record Counts ---\")\n",
    "        print(summary_df.to_string(index=False))"
   ]
  },
  {
   "cell_type": "markdown",
   "id": "98ddab9c",
   "metadata": {},
   "source": [
    "## 2. Partition Analysis\n",
    "\n",
    "Our `player_opening_stats` table is partitioned by the first letter of the ECO code (A, B, C, D, E, and 'other'). The `UPSERT` operations in our pipeline write directly to these partitioned tables. An uneven distribution of data could cause certain partitions to grow much larger than others, potentially slowing down writes to those specific tables.\n",
    "\n",
    "Let's examine the row counts for each partition to see how the data is distributed."
   ]
  },
  {
   "cell_type": "code",
   "execution_count": 7,
   "id": "4b50d210",
   "metadata": {},
   "outputs": [
    {
     "name": "stdout",
     "output_type": "stream",
     "text": [
      "\n",
      "--- Player-Opening Stats Partition Counts ---\n",
      "                 Partition Row Count Percentage\n",
      "    player_opening_stats_A 1,220,282     24.08%\n",
      "    player_opening_stats_B 1,394,359     27.52%\n",
      "    player_opening_stats_C 1,609,547     31.76%\n",
      "    player_opening_stats_D   713,549     14.08%\n",
      "    player_opening_stats_E   129,857      2.56%\n",
      "player_opening_stats_other         0      0.00%\n",
      "\n",
      "Total Rows: 5,067,594\n"
     ]
    }
   ],
   "source": [
    "if db_size_mb > 0:\n",
    "    with get_db_connection(db_path) as con:\n",
    "        partitions = list(\"ABCDE\") + [\"other\"]\n",
    "        partition_stats = []\n",
    "\n",
    "        for p in partitions:\n",
    "            table_name = f\"player_opening_stats_{p}\"\n",
    "            try:\n",
    "                count = con.execute(f\"SELECT COUNT(*) FROM {table_name}\").fetchone()[0]\n",
    "                partition_stats.append({\"Partition\": table_name, \"Row Count\": count})\n",
    "            except duckdb.CatalogException:\n",
    "                partition_stats.append({\"Partition\": table_name, \"Row Count\": 0})\n",
    "\n",
    "        partition_df = pd.DataFrame(partition_stats)\n",
    "        \n",
    "        # Calculate percentages\n",
    "        total_rows = partition_df[\"Row Count\"].sum()\n",
    "        if total_rows > 0:\n",
    "            partition_df[\"Percentage\"] = (partition_df[\"Row Count\"] / total_rows) * 100\n",
    "        else:\n",
    "            partition_df[\"Percentage\"] = 0.0\n",
    "\n",
    "        # Format for display\n",
    "        partition_df[\"Row Count\"] = partition_df[\"Row Count\"].apply('{:,.0f}'.format)\n",
    "        partition_df[\"Percentage\"] = partition_df[\"Percentage\"].apply('{:.2f}%'.format)\n",
    "\n",
    "\n",
    "        print(\"\\n--- Player-Opening Stats Partition Counts ---\")\n",
    "        print(partition_df.to_string(index=False))\n",
    "        if total_rows > 0:\n",
    "            print(f\"\\nTotal Rows: {total_rows:,.0f}\")"
   ]
  },
  {
   "cell_type": "markdown",
   "id": "27dd6373",
   "metadata": {},
   "source": [
    "## 3. Data Skew Analysis\n",
    "\n",
    "A common cause of `UPSERT` slowdowns is data skew, where a small number of keys are involved in a large number of operations. In our case, this could mean:\n",
    "1.  A few highly active players have played a vast number of different openings.\n",
    "2.  A few very common openings have been played by many different players.\n",
    "\n",
    "When a new batch of games is processed, the database has to check for conflicts on `(player_id, opening_id, color)`. If the same players or openings appear frequently, their corresponding records in the stats tables are updated repeatedly. As the tables grow, finding these records to update takes longer.\n",
    "\n",
    "Let's check for this skew by identifying the top players and openings with the most entries in the `player_opening_stats` table."
   ]
  },
  {
   "cell_type": "code",
   "execution_count": 8,
   "id": "73cfa611",
   "metadata": {},
   "outputs": [
    {
     "name": "stdout",
     "output_type": "stream",
     "text": [
      "\n",
      "--- Top 10 Players by Number of Unique Openings Played ---\n",
      "          name opening_count\n",
      "     Natuki-03           632\n",
      "    cdplayer72           618\n",
      "    monta_1973           545\n",
      "  zlatnakisa33           532\n",
      "        nsimah           526\n",
      "CHECKMATE55USA           520\n",
      "     johnkope1           515\n",
      " iccank_alvaro           499\n",
      "     gmgattass           494\n",
      "      ljubisha           490\n",
      "\n",
      "--- Top 10 Openings by Number of Unique Players ---\n",
      "                                         name eco player_count\n",
      "                         Van't Kruijs Opening A00       44,311\n",
      "                                 Pirc Defense B00       35,253\n",
      "                               Modern Defense B06       34,978\n",
      "                            Queen's Pawn Game D00       33,233\n",
      "                                 Owen Defense B00       31,685\n",
      "                             Philidor Defense C41       31,639\n",
      "Scandinavian Defense: Mieses-Kotroc Variation B01       31,137\n",
      "                            Hungarian Opening A00       29,158\n",
      " Queen's Pawn Game: Accelerated London System D00       28,581\n",
      "                            Caro-Kann Defense B10       27,650\n"
     ]
    }
   ],
   "source": [
    "if db_size_mb > 0:\n",
    "    with get_db_connection(db_path) as con:\n",
    "        print(\"\\n--- Top 10 Players by Number of Unique Openings Played ---\")\n",
    "        top_players_df = con.execute(\"\"\"\n",
    "            SELECT p.name, COUNT(*) AS opening_count\n",
    "            FROM player_opening_stats pos\n",
    "            JOIN player p ON pos.player_id = p.id\n",
    "            GROUP BY p.name\n",
    "            ORDER BY opening_count DESC\n",
    "            LIMIT 10;\n",
    "        \"\"\").fetchdf()\n",
    "        top_players_df[\"opening_count\"] = top_players_df[\"opening_count\"].apply('{:,.0f}'.format)\n",
    "        print(top_players_df.to_string(index=False))\n",
    "\n",
    "        print(\"\\n--- Top 10 Openings by Number of Unique Players ---\")\n",
    "        top_openings_df = con.execute(\"\"\"\n",
    "            SELECT o.name, o.eco, COUNT(*) AS player_count\n",
    "            FROM player_opening_stats pos\n",
    "            JOIN opening o ON pos.opening_id = o.id\n",
    "            GROUP BY o.name, o.eco\n",
    "            ORDER BY player_count DESC\n",
    "            LIMIT 10;\n",
    "        \"\"\").fetchdf()\n",
    "        top_openings_df[\"player_count\"] = top_openings_df[\"player_count\"].apply('{:,.0f}'.format)\n",
    "        print(top_openings_df.to_string(index=False))"
   ]
  },
  {
   "cell_type": "markdown",
   "id": "09e07847",
   "metadata": {},
   "source": [
    "## Initial Findings & Next Steps\n",
    "\n",
    "Based on the statistics above, we can draw some preliminary conclusions:\n",
    "\n",
    "- **Scale**: Are the tables growing to a size where DuckDB's `UPSERT` performance is known to degrade? (Typically in the hundreds of millions or billions of rows).\n",
    "- **Balance**: Is the data evenly distributed across partitions, or is one partition taking most of the load? A heavily skewed partition might benefit from further sub-partitioning.\n",
    "- **Skew**: Are a few players or openings dominating the stats table? If so, the constant updates to these \"hot\" records could be the primary source of the slowdown.\n",
    "\n",
    "If significant skew is detected, we might need to reconsider our processing strategy. For example, we could batch updates by player or opening to reduce contention, or explore alternative data structures. If the issue is purely scale, we may need to accept the performance curve or explore more heavy-duty database solutions."
   ]
  }
 ],
 "metadata": {
  "kernelspec": {
   "display_name": ".venv",
   "language": "python",
   "name": "python3"
  },
  "language_info": {
   "codemirror_mode": {
    "name": "ipython",
    "version": 3
   },
   "file_extension": ".py",
   "mimetype": "text/x-python",
   "name": "python",
   "nbconvert_exporter": "python",
   "pygments_lexer": "ipython3",
   "version": "3.12.9"
  }
 },
 "nbformat": 4,
 "nbformat_minor": 5
}
