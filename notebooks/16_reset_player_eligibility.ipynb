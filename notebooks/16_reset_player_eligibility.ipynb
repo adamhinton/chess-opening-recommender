{
 "cells": [
  {
   "cell_type": "markdown",
   "id": "3300c6c2",
   "metadata": {},
   "source": [
    "# Purpose\n",
    "\n",
    "To reset the `is_eligible_account` status for all players in the `player_game_counts` database.\n",
    "\n",
    "# Why?\n",
    "\n",
    "An error in the previous notebook (`15_filter_out_banned_players.ipynb`) caused players to be incorrectly marked as ineligible if the Lichess API call failed for their batch. \n",
    "\n",
    "This notebook will set the `is_eligible_account` column to `NULL` for all records, allowing the corrected pipeline to re-process all players accurately."
   ]
  },
  {
   "cell_type": "code",
   "execution_count": 1,
   "id": "08c4c871",
   "metadata": {},
   "outputs": [
    {
     "name": "stdout",
     "output_type": "stream",
     "text": [
      "Connecting to database at: /Users/a/Documents/personalprojects/chess-opening-recommender/data/processed/find_most_active_players/player_game_counts.duckdb\n",
      "Resetting 'is_eligible_account' column to NULL for all players...\n",
      "Successfully reset 2,847,488 records.\n",
      "\n",
      "Verifying the reset operation...\n",
      "Verification successful: All 'is_eligible_account' values are NULL.\n",
      "\n",
      "Sample of reset data (should all be NULL):\n",
      "               username  is_eligible_account\n",
      "0         Alien_Project                 <NA>\n",
      "1  rastujapurcisaabtipe                 <NA>\n",
      "2           G24_de_tour                 <NA>\n",
      "3       checkthatmatead                 <NA>\n",
      "4            ilijabern1                 <NA>\n",
      "\n",
      "Database connection closed.\n"
     ]
    }
   ],
   "source": [
    "from pathlib import Path\n",
    "from utils.database.db_utils import get_db_connection\n",
    "\n",
    "# --- Database Configuration ---\n",
    "DB_PATH = (\n",
    "    Path.cwd().parent\n",
    "    / \"data\"\n",
    "    / \"processed\"\n",
    "    / \"find_most_active_players\"\n",
    "    / \"player_game_counts.duckdb\"\n",
    ")\n",
    "\n",
    "print(f\"Connecting to database at: {DB_PATH}\")\n",
    "\n",
    "# Use a try...finally block to ensure the DB connection is always closed\n",
    "con = get_db_connection(str(DB_PATH))\n",
    "try:\n",
    "    # --- Reset the is_eligible_account column ---\n",
    "    print(\"Resetting 'is_eligible_account' column to NULL for all players...\")\n",
    "    \n",
    "    update_query = \"UPDATE player_game_counts SET is_eligible_account = NULL\"\n",
    "    result = con.execute(update_query)\n",
    "    \n",
    "    # The result of an UPDATE statement in DuckDB contains the number of affected rows.\n",
    "    updated_rows = result.fetchone()[0]\n",
    "    \n",
    "    print(f\"Successfully reset {updated_rows:,} records.\")\n",
    "\n",
    "    # --- Verification Step ---\n",
    "    print(\"\\nVerifying the reset operation...\")\n",
    "    \n",
    "    # Check if any records still have a non-NULL value\n",
    "    remaining_count = con.execute(\n",
    "        \"SELECT COUNT(*) FROM player_game_counts WHERE is_eligible_account IS NOT NULL\"\n",
    "    ).fetchone()[0]\n",
    "\n",
    "    if remaining_count == 0:\n",
    "        print(\"Verification successful: All 'is_eligible_account' values are NULL.\")\n",
    "    else:\n",
    "        print(f\"Verification failed: Found {remaining_count:,} records that were not reset.\")\n",
    "\n",
    "    # Optional: Display a small sample to visually confirm\n",
    "    print(\"\\nSample of reset data (should all be NULL):\")\n",
    "    sample_df = con.execute(\"SELECT username, is_eligible_account FROM player_game_counts LIMIT 5\").df()\n",
    "    print(sample_df)\n",
    "\n",
    "finally:\n",
    "    con.close()\n",
    "    print(\"\\nDatabase connection closed.\")"
   ]
  }
 ],
 "metadata": {
  "kernelspec": {
   "display_name": ".venv",
   "language": "python",
   "name": "python3"
  },
  "language_info": {
   "codemirror_mode": {
    "name": "ipython",
    "version": 3
   },
   "file_extension": ".py",
   "mimetype": "text/x-python",
   "name": "python",
   "nbconvert_exporter": "python",
   "pygments_lexer": "ipython3",
   "version": "3.12.9"
  }
 },
 "nbformat": 4,
 "nbformat_minor": 5
}
