{
 "cells": [
  {
   "cell_type": "markdown",
   "id": "455802d7",
   "metadata": {},
   "source": [
    "# Purpose\n",
    "\n",
    "This file's purpose is to let me take a look at the contents of our collected player stats.\n",
    "\n",
    "It's not a long-term thing and I can delete this later."
   ]
  },
  {
   "cell_type": "code",
   "execution_count": null,
   "id": "3af69daa",
   "metadata": {},
   "outputs": [
    {
     "name": "stdout",
     "output_type": "stream",
     "text": [
      "\n",
      "\u001b[1m[\u001b[0m\u001b[34;49mnotice\u001b[0m\u001b[1;39;49m]\u001b[0m\u001b[39;49m A new release of pip is available: \u001b[0m\u001b[31;49m24.3.1\u001b[0m\u001b[39;49m -> \u001b[0m\u001b[32;49m25.2\u001b[0m\n",
      "\u001b[1m[\u001b[0m\u001b[34;49mnotice\u001b[0m\u001b[1;39;49m]\u001b[0m\u001b[39;49m To update, run: \u001b[0m\u001b[32;49mpip install --upgrade pip\u001b[0m\n",
      "Note: you may need to restart the kernel to use updated packages.\n",
      "Attempting to load data from: /Users/a/Documents/personalprojects/chess-opening-recommender/data/processed/player_stats_parquet.pkl\n",
      "Successfully loaded data for 553779 players.\n",
      "DataFrame created. Launching qgridnext...\n"
     ]
    }
   ],
   "source": [
    "import sys\n",
    "import subprocess\n",
    "%pip install qgridnext --quiet\n",
    "\n",
    "try:\n",
    "    from qgridnext import show_grid\n",
    "except ImportError:\n",
    "    print(\"Installing qgridnext...\")\n",
    "    subprocess.check_call([sys.executable, \"-m\", \"pip\", \"install\", \"qgridnext\"])\n",
    "    from qgridnext import show_grid\n",
    "    print(\"qgridnext installed successfully.\")\n",
    "\n",
    "import pickle\n",
    "import pandas as pd\n",
    "from pathlib import Path\n",
    "\n",
    "project_root = Path.cwd().parent\n",
    "file_path = project_root / \"data\" / \"processed\" / \"player_stats_parquet.pkl\"\n",
    "\n",
    "print(f\"Attempting to load data from: {file_path}\")\n",
    "\n",
    "if not file_path.exists():\n",
    "    print(\"File not found! Please make sure you have run the processing to generate the .pkl file.\")\n",
    "else:\n",
    "    with open(file_path, 'rb') as f:\n",
    "        data = pickle.load(f)\n",
    "    print(f\"Successfully loaded data for {len(data)} players.\")\n",
    "\n",
    "    df = pd.DataFrame.from_dict(data, orient='index')\n",
    "    df.reset_index(inplace=True)\n",
    "    df.rename(columns={'index': 'player_name'}, inplace=True)\n",
    "\n",
    "    print(\"DataFrame created. Launching qgridnext...\")\n",
    "\n",
    "    grid = show_grid(df)  # API for qgridnext\n",
    "    grid\n",
    "    display(grid)\n"
   ]
  }
 ],
 "metadata": {
  "kernelspec": {
   "display_name": ".venv",
   "language": "python",
   "name": "python3"
  },
  "language_info": {
   "codemirror_mode": {
    "name": "ipython",
    "version": 3
   },
   "file_extension": ".py",
   "mimetype": "text/x-python",
   "name": "python",
   "nbconvert_exporter": "python",
   "pygments_lexer": "ipython3",
   "version": "3.12.9"
  }
 },
 "nbformat": 4,
 "nbformat_minor": 5
}
