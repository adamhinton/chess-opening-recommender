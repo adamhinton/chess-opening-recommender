{
 "cells": [
  {
   "cell_type": "markdown",
   "id": "614fede1",
   "metadata": {},
   "source": [
    "# Display Raw Player Stats"
   ]
  },
  {
   "cell_type": "code",
   "execution_count": 4,
   "id": "fa74d679",
   "metadata": {},
   "outputs": [],
   "source": [
    "import pandas as pd\n",
    "import sys\n",
    "import os\n",
    "\n",
    "# Add utils directory to the Python path\n",
    "sys.path.append(os.path.abspath(os.path.join(os.getcwd(), '..', 'utils')))"
   ]
  },
  {
   "cell_type": "code",
   "execution_count": 5,
   "id": "0de58b18",
   "metadata": {},
   "outputs": [
    {
     "name": "stdout",
     "output_type": "stream",
     "text": [
      "Loaded 258566 players' stats.\n"
     ]
    }
   ],
   "source": [
    "file_path = '../data/processed/all_players_stats_combined.pkl'\n",
    "player_stats = pd.read_pickle(file_path)\n",
    "\n",
    "print(f\"Loaded {len(player_stats)} players' stats.\")"
   ]
  },
  {
   "cell_type": "code",
   "execution_count": null,
   "id": "414e3832",
   "metadata": {},
   "outputs": [
    {
     "name": "stdout",
     "output_type": "stream",
     "text": [
      "--- Player: Gvozdodyor78 ---\n",
      "{'rating': 2045, 'white_games': {'B56': {'opening_name': 'Sicilian Defense: Classical Variation', 'results': {'num_games': 1, 'num_wins': 1, 'num_losses': 0, 'num_draws': 0, 'score_percentage_with_opening': 100.0}}}, 'black_games': {'A01': {'opening_name': 'Nimzo-Larsen Attack: Classical Variation', 'results': {'num_games': 1, 'num_wins': 1, 'num_losses': 0, 'num_draws': 0, 'score_percentage_with_opening': 100.0}}}, 'num_games_total': 2}\n",
      "\n",
      "--- Player: ABuggersLife ---\n",
      "{'rating': 2126, 'white_games': {'B10': {'opening_name': 'Caro-Kann Defense: Two Knights Attack', 'results': {'num_games': 1, 'num_wins': 1, 'num_losses': 0, 'num_draws': 0, 'score_percentage_with_opening': 100.0}}}, 'black_games': {'B56': {'opening_name': 'Sicilian Defense: Classical Variation', 'results': {'num_games': 1, 'num_wins': 0, 'num_losses': 1, 'num_draws': 0, 'score_percentage_with_opening': 0.0}}}, 'num_games_total': 2}\n",
      "\n",
      "--- Player: Roger5Smith ---\n",
      "{'rating': 1576, 'white_games': {'A00': {'opening_name': 'Hungarian Opening: Dutch Defense', 'results': {'num_games': 12, 'num_wins': 7, 'num_losses': 4, 'num_draws': 1, 'score_percentage_with_opening': 62.5}}}, 'black_games': {'B06': {'opening_name': 'Modern Defense', 'results': {'num_games': 8, 'num_wins': 4, 'num_losses': 4, 'num_draws': 0, 'score_percentage_with_opening': 50.0}}, 'A40': {'opening_name': \"Queen's Pawn Game: Modern Defense\", 'results': {'num_games': 1, 'num_wins': 0, 'num_losses': 1, 'num_draws': 0, 'score_percentage_with_opening': 0.0}}, 'A10': {'opening_name': 'English Opening: Great Snake Variation', 'results': {'num_games': 1, 'num_wins': 0, 'num_losses': 1, 'num_draws': 0, 'score_percentage_with_opening': 0.0}}}, 'num_games_total': 22}\n",
      "\n",
      "--- Player: ghridjvw ---\n",
      "{'rating': 1588, 'white_games': {'C24': {'opening_name': \"Bishop's Opening: Vienna Hybrid\", 'results': {'num_games': 1, 'num_wins': 0, 'num_losses': 1, 'num_draws': 0, 'score_percentage_with_opening': 0.0}}}, 'black_games': {'A00': {'opening_name': 'Hungarian Opening: Dutch Defense', 'results': {'num_games': 1, 'num_wins': 0, 'num_losses': 1, 'num_draws': 0, 'score_percentage_with_opening': 0.0}}, 'A80': {'opening_name': 'Dutch Defense', 'results': {'num_games': 1, 'num_wins': 1, 'num_losses': 0, 'num_draws': 0, 'score_percentage_with_opening': 100.0}}}, 'num_games_total': 3}\n",
      "\n",
      "--- Player: vomacrac ---\n",
      "{'rating': 2315, 'white_games': {'E00': {'opening_name': 'Catalan Opening', 'results': {'num_games': 3, 'num_wins': 2, 'num_losses': 0, 'num_draws': 1, 'score_percentage_with_opening': 83.3}}, 'A54': {'opening_name': 'Old Indian Defense: Ukrainian Variation', 'results': {'num_games': 1, 'num_wins': 0, 'num_losses': 1, 'num_draws': 0, 'score_percentage_with_opening': 0.0}}, 'A40': {'opening_name': \"Queen's Pawn Game: Anglo-Slav Opening\", 'results': {'num_games': 2, 'num_wins': 1, 'num_losses': 0, 'num_draws': 1, 'score_percentage_with_opening': 75.0}}, 'A42': {'opening_name': 'Modern Defense: Averbakh System', 'results': {'num_games': 1, 'num_wins': 0, 'num_losses': 1, 'num_draws': 0, 'score_percentage_with_opening': 0.0}}, 'D85': {'opening_name': 'Grünfeld Defense: Exchange Variation', 'results': {'num_games': 1, 'num_wins': 0, 'num_losses': 1, 'num_draws': 0, 'score_percentage_with_opening': 0.0}}, 'D12': {'opening_name': 'Slav Defense: Quiet Variation, Schallopp Defense', 'results': {'num_games': 1, 'num_wins': 0, 'num_losses': 1, 'num_draws': 0, 'score_percentage_with_opening': 0.0}}, 'E06': {'opening_name': 'Catalan Opening: Closed', 'results': {'num_games': 1, 'num_wins': 1, 'num_losses': 0, 'num_draws': 0, 'score_percentage_with_opening': 100.0}}, 'D30': {'opening_name': \"Queen's Gambit Declined\", 'results': {'num_games': 1, 'num_wins': 1, 'num_losses': 0, 'num_draws': 0, 'score_percentage_with_opening': 100.0}}, 'A65': {'opening_name': \"Benoni Defense: King's Pawn Line\", 'results': {'num_games': 1, 'num_wins': 0, 'num_losses': 1, 'num_draws': 0, 'score_percentage_with_opening': 0.0}}, 'A56': {'opening_name': 'Benoni Defense', 'results': {'num_games': 1, 'num_wins': 0, 'num_losses': 1, 'num_draws': 0, 'score_percentage_with_opening': 0.0}}}, 'black_games': {'D02': {'opening_name': \"Queen's Pawn Game: Zukertort Variation\", 'results': {'num_games': 2, 'num_wins': 0, 'num_losses': 2, 'num_draws': 0, 'score_percentage_with_opening': 0.0}}, 'B40': {'opening_name': 'Sicilian Defense: French Variation', 'results': {'num_games': 1, 'num_wins': 0, 'num_losses': 1, 'num_draws': 0, 'score_percentage_with_opening': 0.0}}, 'B41': {'opening_name': 'Sicilian Defense: Kan Variation', 'results': {'num_games': 2, 'num_wins': 1, 'num_losses': 1, 'num_draws': 0, 'score_percentage_with_opening': 50.0}}, 'D31': {'opening_name': \"Queen's Gambit Declined: Janowski Variation\", 'results': {'num_games': 2, 'num_wins': 1, 'num_losses': 1, 'num_draws': 0, 'score_percentage_with_opening': 50.0}}, 'A08': {'opening_name': \"King's Indian Attack: French Variation\", 'results': {'num_games': 1, 'num_wins': 1, 'num_losses': 0, 'num_draws': 0, 'score_percentage_with_opening': 100.0}}, 'B23': {'opening_name': 'Sicilian Defense: Closed', 'results': {'num_games': 1, 'num_wins': 0, 'num_losses': 1, 'num_draws': 0, 'score_percentage_with_opening': 0.0}}, 'B20': {'opening_name': 'Sicilian Defense: Snyder Variation', 'results': {'num_games': 1, 'num_wins': 0, 'num_losses': 1, 'num_draws': 0, 'score_percentage_with_opening': 0.0}}, 'B28': {'opening_name': \"Sicilian Defense: O'Kelly Variation, Yerevan System\", 'results': {'num_games': 1, 'num_wins': 1, 'num_losses': 0, 'num_draws': 0, 'score_percentage_with_opening': 100.0}}, 'D00': {'opening_name': \"Queen's Pawn Game\", 'results': {'num_games': 1, 'num_wins': 1, 'num_losses': 0, 'num_draws': 0, 'score_percentage_with_opening': 100.0}}, 'A00': {'opening_name': 'Van Geet Opening', 'results': {'num_games': 1, 'num_wins': 0, 'num_losses': 0, 'num_draws': 1, 'score_percentage_with_opening': 50.0}}, 'A13': {'opening_name': 'English Opening: Agincourt Defense', 'results': {'num_games': 1, 'num_wins': 0, 'num_losses': 1, 'num_draws': 0, 'score_percentage_with_opening': 0.0}}}, 'num_games_total': 27}\n",
      "\n"
     ]
    }
   ],
   "source": [
    "# Display the raw data for a few players\n",
    "for i, (player, stats) in enumerate(player_stats.items()):\n",
    "    if i >= 20:\n",
    "        break\n",
    "    print(f\"--- Player: {player} ---\")\n",
    "    print(stats)\n",
    "    print()"
   ]
  }
 ],
 "metadata": {
  "kernelspec": {
   "display_name": ".venv",
   "language": "python",
   "name": "python3"
  },
  "language_info": {
   "codemirror_mode": {
    "name": "ipython",
    "version": 3
   },
   "file_extension": ".py",
   "mimetype": "text/x-python",
   "name": "python",
   "nbconvert_exporter": "python",
   "pygments_lexer": "ipython3",
   "version": "3.12.9"
  }
 },
 "nbformat": 4,
 "nbformat_minor": 5
}
