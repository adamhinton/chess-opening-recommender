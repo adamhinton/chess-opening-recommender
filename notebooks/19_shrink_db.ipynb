{
 "cells": [
  {
   "cell_type": "code",
   "execution_count": 1,
   "id": "2dab4527",
   "metadata": {},
   "outputs": [
    {
     "name": "stdout",
     "output_type": "stream",
     "text": [
      "Database path: /Users/a/Documents/personalprojects/chess-opening-recommender/data/processed/chess_games.db\n",
      "Partitions: ['A', 'B', 'C', 'D', 'E', 'other']\n"
     ]
    }
   ],
   "source": [
    "# Configuration\n",
    "from pathlib import Path\n",
    "from utils.database.db_utils import get_db_connection\n",
    " \n",
    "# Define the path to the DuckDB database file\n",
    "project_root = Path.cwd().parent if \"notebooks\" in str(Path.cwd()) else Path.cwd()\n",
    "db_path = project_root / \"data\" / \"processed\" / \"chess_games.db\"\n",
    " \n",
    "# Define partitions for player_opening_stats\n",
    "partitions = list(\"ABCDE\") + [\"other\"]\n",
    " \n",
    "# Print configuration details\n",
    "print(f\"Database path: {db_path}\")\n",
    "print(f\"Partitions: {partitions}\")"
   ]
  },
  {
   "cell_type": "markdown",
   "id": "8014e89b",
   "metadata": {},
   "source": [
    "# Purpose\n",
    "\n",
    "To decrease the size of our opening stats DB, making queries faster and more efficient.\n",
    "\n",
    "# Methods:\n",
    "\n",
    "    1. Change INTs to SMALLINT\n",
    "        - player_id and opening_id\n",
    "        - num_draws\n",
    "            - Not doing this on num_wins and num_losses because those may exceed the limit of this data type (~32,000)\n",
    "        - Not doing this with player_opening_stats ID because that's a composite string, not an int \n",
    "        - Saves 2 bytes per entry\n",
    "    \n",
    "    2. Change `color` VARCHAR to w/b enum\n",
    "        - 1b\n",
    "        - Compared to the 12-16bytes the previous varchar took up\n",
    "\n",
    "# Considerations\n",
    "    - Saving a copy of the DB in case I bork this"
   ]
  },
  {
   "cell_type": "code",
   "execution_count": 2,
   "id": "1574311f",
   "metadata": {},
   "outputs": [
    {
     "name": "stdout",
     "output_type": "stream",
     "text": [
      "Current database file size: 1385.51 MB\n"
     ]
    }
   ],
   "source": [
    "# Print current database size\n",
    "import os\n",
    "try:\n",
    "    db_size_bytes = os.path.getsize(db_path)\n",
    "    db_size_mb = db_size_bytes / (1024 * 1024)\n",
    "    print(f\"Current database file size: {db_size_mb:.2f} MB\")\n",
    "except FileNotFoundError:\n",
    "    print(\"Database file not found.\")\n",
    "    db_size_mb = 0"
   ]
  },
  {
   "cell_type": "code",
   "execution_count": null,
   "id": "65f7058f",
   "metadata": {},
   "outputs": [
    {
     "name": "stdout",
     "output_type": "stream",
     "text": [
      "Creating new schema for partitioned tables...\n",
      "Creating new player and opening tables...\n",
      "Migrating data to new player and opening tables...\n",
      "Creating new player_opening_stats tables...\n",
      "Migrating player_opening_stats data...\n",
      "Migrating data from player_opening_stats_A to player_opening_stats_A_new...\n",
      "Migrating data from player_opening_stats_B to player_opening_stats_B_new...\n",
      "Migrating data from player_opening_stats_B to player_opening_stats_B_new...\n",
      "Migrating data from player_opening_stats_C to player_opening_stats_C_new...\n",
      "Migrating data from player_opening_stats_C to player_opening_stats_C_new...\n",
      "Migrating data from player_opening_stats_D to player_opening_stats_D_new...\n",
      "Migrating data from player_opening_stats_D to player_opening_stats_D_new...\n",
      "Migrating data from player_opening_stats_E to player_opening_stats_E_new...\n",
      "Migrating data from player_opening_stats_E to player_opening_stats_E_new...\n",
      "Migrating data from player_opening_stats_other to player_opening_stats_other_new...\n",
      "Swapping old tables with new tables...\n",
      "Migrating data from player_opening_stats_other to player_opening_stats_other_new...\n",
      "Swapping old tables with new tables...\n"
     ]
    },
    {
     "ename": "DependencyException",
     "evalue": "Dependency Error: Cannot alter entry \"player_new\" because there are entries that depend on it.",
     "output_type": "error",
     "traceback": [
      "\u001b[31m---------------------------------------------------------------------------\u001b[39m",
      "\u001b[31mDependencyException\u001b[39m                       Traceback (most recent call last)",
      "\u001b[36mCell\u001b[39m\u001b[36m \u001b[39m\u001b[32mIn[3]\u001b[39m\u001b[32m, line 3\u001b[39m\n\u001b[32m      1\u001b[39m \u001b[38;5;66;03m# Execute migration pipeline\u001b[39;00m\n\u001b[32m      2\u001b[39m \u001b[38;5;28;01mif\u001b[39;00m db_size_mb > \u001b[32m0\u001b[39m:\n\u001b[32m----> \u001b[39m\u001b[32m3\u001b[39m     \u001b[38;5;28;01mwith\u001b[39;00m get_db_connection(db_path) \u001b[38;5;28;01mas\u001b[39;00m con:\n\u001b[32m      4\u001b[39m         \u001b[38;5;28mprint\u001b[39m(\u001b[33m\"\u001b[39m\u001b[33mCreating new schema for partitioned tables...\u001b[39m\u001b[33m\"\u001b[39m)\n\u001b[32m      5\u001b[39m         con.execute(\u001b[33m\"\u001b[39m\u001b[33mCREATE TYPE IF NOT EXISTS color_enum AS ENUM (\u001b[39m\u001b[33m'\u001b[39m\u001b[33mw\u001b[39m\u001b[33m'\u001b[39m\u001b[33m, \u001b[39m\u001b[33m'\u001b[39m\u001b[33mb\u001b[39m\u001b[33m'\u001b[39m\u001b[33m);\u001b[39m\u001b[33m\"\u001b[39m)\n",
      "\u001b[36mCell\u001b[39m\u001b[36m \u001b[39m\u001b[32mIn[3]\u001b[39m\u001b[32m, line 72\u001b[39m\n\u001b[32m     69\u001b[39m con.execute(\u001b[33m\"\u001b[39m\u001b[33mDROP TABLE opening;\u001b[39m\u001b[33m\"\u001b[39m)\n\u001b[32m     71\u001b[39m \u001b[38;5;66;03m# Rename new tables\u001b[39;00m\n\u001b[32m---> \u001b[39m\u001b[32m72\u001b[39m \u001b[43mcon\u001b[49m\u001b[43m.\u001b[49m\u001b[43mexecute\u001b[49m\u001b[43m(\u001b[49m\u001b[33;43m\"\u001b[39;49m\u001b[33;43mALTER TABLE player_new RENAME TO player;\u001b[39;49m\u001b[33;43m\"\u001b[39;49m\u001b[43m)\u001b[49m\n\u001b[32m     73\u001b[39m con.execute(\u001b[33m\"\u001b[39m\u001b[33mALTER TABLE opening_new RENAME TO opening;\u001b[39m\u001b[33m\"\u001b[39m)\n\u001b[32m     75\u001b[39m \u001b[38;5;28mprint\u001b[39m(\u001b[33m\"\u001b[39m\u001b[33mMigration complete. All data has been preserved with optimized schema.\u001b[39m\u001b[33m\"\u001b[39m)\n",
      "\u001b[31mDependencyException\u001b[39m: Dependency Error: Cannot alter entry \"player_new\" because there are entries that depend on it."
     ]
    }
   ],
   "source": [
    "# Execute migration pipeline\n",
    "if db_size_mb > 0:\n",
    "    with get_db_connection(db_path) as con:\n",
    "        print(\"Creating new schema for partitioned tables...\")\n",
    "        con.execute(\"CREATE TYPE IF NOT EXISTS color_enum AS ENUM ('w', 'b');\")\n",
    "\n",
    "        # Create new player and opening tables with appropriate ID types\n",
    "        print(\"Creating new player and opening tables...\")\n",
    "        con.execute(\"\"\"\n",
    "            CREATE TABLE player_new (\n",
    "                id INTEGER PRIMARY KEY,\n",
    "                name VARCHAR\n",
    "            );\n",
    "        \"\"\")\n",
    "        con.execute(\"\"\"\n",
    "            CREATE TABLE opening_new (\n",
    "                id INTEGER PRIMARY KEY,\n",
    "                eco VARCHAR,\n",
    "                name VARCHAR\n",
    "            );\n",
    "        \"\"\")\n",
    "\n",
    "        # Migrate data to new player and opening tables\n",
    "        print(\"Migrating data to new player and opening tables...\")\n",
    "        con.execute(\"INSERT INTO player_new SELECT id, name FROM player;\")\n",
    "        con.execute(\"INSERT INTO opening_new SELECT id, eco, name FROM opening;\")\n",
    "\n",
    "        # Create new player_opening_stats tables with optimized schema (no foreign keys initially)\n",
    "        print(\"Creating new player_opening_stats tables...\")\n",
    "        for letter in partitions:\n",
    "            new_table = f\"player_opening_stats_{letter}_new\"\n",
    "            con.execute(f\"\"\"\n",
    "                CREATE TABLE {new_table} (\n",
    "                    player_id   INTEGER NOT NULL,\n",
    "                    opening_id  INTEGER NOT NULL,\n",
    "                    color       color_enum NOT NULL,\n",
    "                    num_wins    INTEGER DEFAULT 0,\n",
    "                    num_draws   SMALLINT DEFAULT 0,\n",
    "                    num_losses  INTEGER DEFAULT 0,\n",
    "                    PRIMARY KEY (player_id, opening_id, color)\n",
    "                );\n",
    "            \"\"\")\n",
    "\n",
    "        # Migrate data from old player_opening_stats tables to new ones\n",
    "        print(\"Migrating player_opening_stats data...\")\n",
    "        for letter in partitions:\n",
    "            old_table = f\"player_opening_stats_{letter}\"\n",
    "            new_table = f\"player_opening_stats_{letter}_new\"\n",
    "            print(f\"Migrating data from {old_table} to {new_table}...\")\n",
    "            con.execute(f\"\"\"\n",
    "                INSERT INTO {new_table} (player_id, opening_id, color, num_wins, num_draws, num_losses)\n",
    "                SELECT player_id, opening_id, color, num_wins, num_draws, num_losses\n",
    "                FROM {old_table}\n",
    "                WHERE num_wins <> 0 OR num_draws <> 0 OR num_losses <> 0;\n",
    "            \"\"\")\n",
    "\n",
    "        # Now drop old tables and rename new ones\n",
    "        print(\"Swapping old tables with new tables...\")\n",
    "        for letter in partitions:\n",
    "            old_table = f\"player_opening_stats_{letter}\"\n",
    "            new_table = f\"player_opening_stats_{letter}_new\"\n",
    "            con.execute(f\"DROP TABLE {old_table};\")\n",
    "            con.execute(f\"ALTER TABLE {new_table} RENAME TO {old_table};\")\n",
    "\n",
    "        # Drop old player and opening tables\n",
    "        con.execute(\"DROP TABLE player;\")\n",
    "        con.execute(\"DROP TABLE opening;\")\n",
    "\n",
    "        # Rename new tables\n",
    "        con.execute(\"ALTER TABLE player_new RENAME TO player;\")\n",
    "        con.execute(\"ALTER TABLE opening_new RENAME TO opening;\")\n",
    "\n",
    "        # Now add foreign key constraints to the final tables\n",
    "        print(\"Adding foreign key constraints...\")\n",
    "        for letter in partitions:\n",
    "            table_name = f\"player_opening_stats_{letter}\"\n",
    "            con.execute(f\"ALTER TABLE {table_name} ADD CONSTRAINT fk_player_{letter} FOREIGN KEY (player_id) REFERENCES player(id);\")\n",
    "            con.execute(f\"ALTER TABLE {table_name} ADD CONSTRAINT fk_opening_{letter} FOREIGN KEY (opening_id) REFERENCES opening(id);\")\n",
    "\n",
    "        print(\"Migration complete. All data has been preserved with optimized schema.\")"
   ]
  },
  {
   "cell_type": "code",
   "execution_count": null,
   "id": "02881c0d",
   "metadata": {},
   "outputs": [],
   "source": [
    "# Print new database size and vacuum\n",
    "try:\n",
    "    db_size_bytes = os.path.getsize(db_path)\n",
    "    db_size_mb = db_size_bytes / (1024 * 1024)\n",
    "    print(f\"New database file size: {db_size_mb:.2f} MB\")\n",
    " \n",
    "    with get_db_connection(db_path) as con:\n",
    "        print(\"Vacuuming database to optimize storage...\")\n",
    "        con.execute(\"VACUUM;\")\n",
    "        print(\"Vacuum complete.\")\n",
    " \n",
    "        db_size_bytes = os.path.getsize(db_path)\n",
    "        db_size_mb = db_size_bytes / (1024 * 1024)\n",
    "        print(f\"Post-vacuum database file size: {db_size_mb:.2f} MB\")\n",
    "except FileNotFoundError:\n",
    "    print(\"Database file not found.\")"
   ]
  }
 ],
 "metadata": {
  "kernelspec": {
   "display_name": "base",
   "language": "python",
   "name": "python3"
  },
  "language_info": {
   "codemirror_mode": {
    "name": "ipython",
    "version": 3
   },
   "file_extension": ".py",
   "mimetype": "text/x-python",
   "name": "python",
   "nbconvert_exporter": "python",
   "pygments_lexer": "ipython3",
   "version": "3.12.9"
  }
 },
 "nbformat": 4,
 "nbformat_minor": 5
}
