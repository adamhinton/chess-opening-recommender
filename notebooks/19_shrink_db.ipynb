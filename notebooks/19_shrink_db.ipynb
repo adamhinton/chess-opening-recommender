{
 "cells": [
  {
   "cell_type": "markdown",
   "id": "8014e89b",
   "metadata": {},
   "source": [
    "# Purpose\n",
    "\n",
    "To decrease the size of our opening stats DB, making queries faster and more efficient.\n",
    "\n",
    "# Methods:\n",
    "\n",
    "    1. Change INTs to SMALLINT\n",
    "        - player_id and opening_id\n",
    "        - num_draws\n",
    "            - Not doing this on num_wins and num_losses because those may exceed the limit of this data type (~32,000)\n",
    "        - Not doing this with player_opening_stats ID because that's a composite string, not an int \n",
    "        - Saves 2 bytes per entry\n",
    "    \n",
    "    2. Change `color` VARCHAR to w/b enum\n",
    "        - "
   ]
  }
 ],
 "metadata": {
  "language_info": {
   "name": "python"
  }
 },
 "nbformat": 4,
 "nbformat_minor": 5
}
