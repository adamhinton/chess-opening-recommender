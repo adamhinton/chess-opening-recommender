{
 "cells": [
  {
   "cell_type": "markdown",
   "id": "5938f7b2",
   "metadata": {},
   "source": []
  },
  {
   "cell_type": "markdown",
   "id": "0c657718",
   "metadata": {},
   "source": [
    "# Purpose\n",
    "\n",
    "This notebook will find the 50k most active Lichess players (rapid blitz classical), measured by number of games.\n",
    "\n",
    "It does this by downloading and reading parquet files of raw game data.\n",
    "\n",
    "It's not practical to download the hundreds of 1GB parquet files; so we will download a certain number and extrapolate from there.\n",
    "\n",
    "We don't need to know exactly who is the *most* active, just need to find *very* active players.\n",
    "\n",
    "Then, we will process their games for data to feed in to our chess opening recommender AI model.\n",
    "\n",
    "# Reason\n",
    "\n",
    "Originally, we were just collecting data on millions of players without caring who was active or not.\n",
    "\n",
    "This grew impractical quickly, with a massive local DB. Games processing slowed down exponentially because SQL queries to the local duckdb got so slow due to the db's size.\n",
    "\n",
    "So I've decided to focus on the 50k most active players instead.\n",
    "\n",
    "# Method\n",
    "\n",
    "1. Get names of parquet files\n",
    "    - We will want to look at games data over the course of a year or so\n",
    "    - So, we'll download some 1GB raw game data parquet files (number TBD) from each month (there are about 60-70 total per month)\n",
    "    - To do this, we need the names of those files to get from the HuggingFace API\n",
    "    - Luckily we already have functionality elsewhere to do this; I'll import it here and update slightly for our needs\n",
    "\n",
    "2. Download parquet files\n",
    "    - Once we have the names of the needed files, we'll download them\n",
    "    - I already have functionality to do this elsewhere, just need to import it here\n",
    "\n",
    "3. Save game counts\n",
    "    - Once we have our parquet files downloaded, we'll count the number of games each username has\n",
    "    - There will be some filters; only Rapid/Blitz/Classical games, only players over 1200 rating\n",
    "    - Need to decide on a data saving method; probably in a CSV with username/num_games\n",
    "    - Wherever it's saved it needs to be persistent, as this processing will happen over multiple sessions.\n",
    "\n",
    "4. Get most active players\n",
    "    - Finally, we'll analyze our CSV to retrieve the usernames of the 50,000 most active Lichess players\n",
    "    - Profit"
   ]
  },
  {
   "cell_type": "markdown",
   "id": "e1bac497",
   "metadata": {},
   "source": [
    "## Config\n",
    "\n",
    "Below, we'll define some important variables that we want to use in this notebook.\n",
    "\n",
    "I like to keep them in one place at the top."
   ]
  },
  {
   "cell_type": "code",
   "execution_count": null,
   "id": "7e15df8a",
   "metadata": {},
   "outputs": [],
   "source": [
    "from utils.downloading_raw_parquet_data.get_parquet_file_names import (\n",
    "    get_parquet_file_names,\n",
    ")\n",
    "\n",
    "# The year and month we want to download data for\n",
    "\n",
    "month_for_downloading = 6\n",
    "year_for_downloading = 2025\n",
    "\n",
    "max_files_to_download_per_month = 3"
   ]
  },
  {
   "cell_type": "markdown",
   "id": "7070cdbc",
   "metadata": {},
   "source": [
    "## 1. Get file names\n",
    "\n",
    "Now, we'll get the file names for the month and year we want to download."
   ]
  },
  {
   "cell_type": "code",
   "execution_count": null,
   "id": "cca8fa4a",
   "metadata": {},
   "outputs": [
    {
     "ename": "NameError",
     "evalue": "name 'max_files_to_download_per_month' is not defined",
     "output_type": "error",
     "traceback": [
      "\u001b[31m---------------------------------------------------------------------------\u001b[39m",
      "\u001b[31mNameError\u001b[39m                                 Traceback (most recent call last)",
      "\u001b[36mCell\u001b[39m\u001b[36m \u001b[39m\u001b[32mIn[7]\u001b[39m\u001b[32m, line 3\u001b[39m\n\u001b[32m      1\u001b[39m file_names_for_month = get_parquet_file_names(year_for_downloading, month_for_downloading)\n\u001b[32m      2\u001b[39m \u001b[38;5;28;01mfor\u001b[39;00m i, file_name \u001b[38;5;129;01min\u001b[39;00m \u001b[38;5;28menumerate\u001b[39m(file_names_for_month):\n\u001b[32m----> \u001b[39m\u001b[32m3\u001b[39m     \u001b[38;5;28;01mif\u001b[39;00m i >= \u001b[43mmax_files_to_download_per_month\u001b[49m:\n\u001b[32m      4\u001b[39m         \u001b[38;5;28;01mbreak\u001b[39;00m\n\u001b[32m      5\u001b[39m     \u001b[38;5;28mprint\u001b[39m(file_name)\n",
      "\u001b[31mNameError\u001b[39m: name 'max_files_to_download_per_month' is not defined"
     ]
    }
   ],
   "source": [
    "file_names_for_month = get_parquet_file_names(year_for_downloading, month_for_downloading)\n",
    "# print with line separations\n",
    "print(\"\\n\".join(file_names_for_month[:max_files_to_download_per_month]))"
   ]
  }
 ],
 "metadata": {
  "kernelspec": {
   "display_name": ".venv",
   "language": "python",
   "name": "python3"
  },
  "language_info": {
   "codemirror_mode": {
    "name": "ipython",
    "version": 3
   },
   "file_extension": ".py",
   "mimetype": "text/x-python",
   "name": "python",
   "nbconvert_exporter": "python",
   "pygments_lexer": "ipython3",
   "version": "3.12.9"
  }
 },
 "nbformat": 4,
 "nbformat_minor": 5
}
