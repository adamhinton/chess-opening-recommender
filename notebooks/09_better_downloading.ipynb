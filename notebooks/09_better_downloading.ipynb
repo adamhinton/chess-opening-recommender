{
 "cells": [
  {
   "cell_type": "markdown",
   "id": "3ecceed8",
   "metadata": {},
   "source": [
    "# Downloading Experiments\n",
    "\n",
    "This notebook is a proof of concept\n",
    "\n",
    "Right now, we have some flaws in our raw data download system. We want to make sure we get this right because we will be downloading and processing hundreds or thousands of GBs of raw data parquet files.\n",
    "\n",
    "So, we'll be messing around here with some implementations, and if they work, we'll be replacing parts of our original code with this."
   ]
  },
  {
   "cell_type": "code",
   "execution_count": 1,
   "id": "d5bdd03e",
   "metadata": {},
   "outputs": [
    {
     "name": "stdout",
     "output_type": "stream",
     "text": [
      "\n",
      "\u001b[1m[\u001b[0m\u001b[34;49mnotice\u001b[0m\u001b[1;39;49m]\u001b[0m\u001b[39;49m A new release of pip is available: \u001b[0m\u001b[31;49m24.3.1\u001b[0m\u001b[39;49m -> \u001b[0m\u001b[32;49m25.2\u001b[0m\n",
      "\u001b[1m[\u001b[0m\u001b[34;49mnotice\u001b[0m\u001b[1;39;49m]\u001b[0m\u001b[39;49m To update, run: \u001b[0m\u001b[32;49mpip install --upgrade pip\u001b[0m\n",
      "Note: you may need to restart the kernel to use updated packages.\n",
      "Note: you may need to restart the kernel to use updated packages.\n"
     ]
    }
   ],
   "source": [
    "%pip install huggingface_hub --quiet"
   ]
  },
  {
   "cell_type": "markdown",
   "id": "07dd6cc3",
   "metadata": {},
   "source": [
    "## Getting file names\n",
    "\n",
    "We want to use file names and other meta data to do dupe checks of what we've already processed, and see what we still need to download from a certain month. Let's run this code that gets all file names from the repo, to see what the data looks like.\n",
    "\n",
    "TODO I wrote get_parquet_file_names for this; if we use this notebook again, convert this functionality to use that util."
   ]
  },
  {
   "cell_type": "code",
   "execution_count": null,
   "id": "b1b3029e",
   "metadata": {},
   "outputs": [],
   "source": []
  },
  {
   "cell_type": "code",
   "execution_count": null,
   "id": "e6352155",
   "metadata": {},
   "outputs": [],
   "source": []
  },
  {
   "cell_type": "code",
   "execution_count": null,
   "id": "82d1ccb4",
   "metadata": {},
   "outputs": [
    {
     "name": "stdout",
     "output_type": "stream",
     "text": [
      "69 files found for 2025-3\n",
      "data/year=2025/month=03/train-00000-of-00069.parquet\n",
      "data/year=2025/month=03/train-00001-of-00069.parquet\n",
      "data/year=2025/month=03/train-00002-of-00069.parquet\n",
      "data/year=2025/month=03/train-00003-of-00069.parquet\n",
      "data/year=2025/month=03/train-00004-of-00069.parquet\n",
      "data/year=2025/month=03/train-00005-of-00069.parquet\n",
      "data/year=2025/month=03/train-00006-of-00069.parquet\n",
      "data/year=2025/month=03/train-00007-of-00069.parquet\n",
      "data/year=2025/month=03/train-00008-of-00069.parquet\n",
      "data/year=2025/month=03/train-00009-of-00069.parquet\n",
      "data/year=2025/month=03/train-00010-of-00069.parquet\n",
      "data/year=2025/month=03/train-00011-of-00069.parquet\n",
      "data/year=2025/month=03/train-00012-of-00069.parquet\n",
      "data/year=2025/month=03/train-00013-of-00069.parquet\n",
      "data/year=2025/month=03/train-00014-of-00069.parquet\n",
      "data/year=2025/month=03/train-00015-of-00069.parquet\n",
      "data/year=2025/month=03/train-00016-of-00069.parquet\n",
      "data/year=2025/month=03/train-00017-of-00069.parquet\n",
      "data/year=2025/month=03/train-00018-of-00069.parquet\n",
      "data/year=2025/month=03/train-00019-of-00069.parquet\n"
     ]
    }
   ],
   "source": [
    "# Here we get a list of raw data files for the given month/year\n",
    "\n",
    "# TODO I wrote get_parquet_file_names for this; if we use this notebook again, convert this functionality to use that util.\n",
    "\n",
    "# File names in the remote repo are structured like:\n",
    "# data/year=2025/month=03/train-00001-of-00065.parquet\n",
    "# Obviously, there will be different amounts of them so it won't always be -00065.parquet\n",
    "\n",
    "from huggingface_hub import HfApi\n",
    "from pathlib import Path\n",
    "\n",
    "year = 2025\n",
    "month = 3  # <-- type manually\n",
    "\n",
    "api = HfApi()\n",
    "files = api.list_repo_files(\n",
    "    repo_id=\"Lichess/standard-chess-games\",\n",
    "    repo_type=\"dataset\"\n",
    ")\n",
    "\n",
    "# Filter for that year/month\n",
    "target_prefix = f\"data/year={year}/month={month:02d}/\"\n",
    "all_file_names_in_month = [f for f in files if f.startswith(target_prefix)]\n",
    "\n",
    "print(len(all_file_names_in_month), f\"files found for {year}-{month}\")\n",
    "for f in all_file_names_in_month[:20]:  # preview first 20\n",
    "    print(f)"
   ]
  },
  {
   "cell_type": "markdown",
   "id": "47a3554f",
   "metadata": {},
   "source": [
    "## Dupe checks\n",
    "\n",
    "Now that we have the list of raw data file names for the given month and year, we'll perform our dupe checks. This parses through the list of file names to make sure we haven't already processed any of these files.\n",
    "\n",
    "Each file is a 1GB download, so it's obviously in our best interest not to download a file we've already processed."
   ]
  },
  {
   "cell_type": "code",
   "execution_count": 3,
   "id": "d358efb0",
   "metadata": {},
   "outputs": [
    {
     "name": "stdout",
     "output_type": "stream",
     "text": [
      "69 new files to download\n"
     ]
    }
   ],
   "source": [
    "# Parse the list of raw data file names to make sure we haven't already processed any of these files, and skip downloading any dupes\n",
    "\n",
    "from huggingface_hub import get_hf_file_metadata, hf_hub_url\n",
    "\n",
    "import sys\n",
    "\n",
    "# Current working directory (should be project root)\n",
    "project_root = Path.cwd()\n",
    "sys.path.insert(0, str(project_root))\n",
    "\n",
    "from utils.file_processing.raw_data_file_dupe_checks import FileRegistry  # noqa: E402\n",
    "\n",
    "# Init registry\n",
    "registry = FileRegistry()\n",
    "\n",
    "# Remove files already processed\n",
    "non_dupe_files = []\n",
    "month_str = f\"{year}-{month}\"\n",
    "for f in all_file_names_in_month:\n",
    "    url = hf_hub_url(\n",
    "        repo_id=\"Lichess/standard-chess-games\",\n",
    "        repo_type=\"dataset\",\n",
    "        filename=f,\n",
    "    )\n",
    "    meta = get_hf_file_metadata(url=url)\n",
    "    size = meta.size\n",
    "    etag = meta.etag\n",
    "\n",
    "    # This is the filename format that will be saved in the registry\n",
    "    expected_filename_in_registry = f\"{year}-{month:02d}-{Path(f).name}\"\n",
    "\n",
    "    if not registry.is_file_processed(\n",
    "        month_str, expected_filename_in_registry, size, etag\n",
    "    ):\n",
    "        non_dupe_files.append(f)\n",
    "\n",
    "print(len(non_dupe_files), \"new files to download\")"
   ]
  },
  {
   "cell_type": "markdown",
   "id": "405bbf91",
   "metadata": {},
   "source": [
    "## Config\n",
    "\n",
    "Now to configure how we want our downloading and processing pipeline to operate."
   ]
  },
  {
   "cell_type": "code",
   "execution_count": null,
   "id": "a040c3f4",
   "metadata": {},
   "outputs": [
    {
     "name": "stdout",
     "output_type": "stream",
     "text": [
      "Initializing database schema...\n",
      "Database tables and partitioned stats tables are ready.\n",
      "Prepared to download and process 10 files.\n"
     ]
    }
   ],
   "source": [
    "# Config stuff\n",
    "import importlib\n",
    "from utils.database import db_utils\n",
    "from utils.file_processing import process_game_batch\n",
    "importlib.reload(db_utils)\n",
    "importlib.reload(process_game_batch)\n",
    "\n",
    "from utils.downloading_raw_parquet_data.raw_parquet_data_file_downloader import (\n",
    "    download_single_parquet_file,\n",
    ")\n",
    "from utils.file_processing.process_parquet_file import (\n",
    "    process_parquet_file,\n",
    ")\n",
    "from utils.file_processing.types_and_classes import ProcessingConfig\n",
    "from utils.database.db_utils import get_db_connection, setup_database\n",
    "\n",
    "\n",
    "# --- Configuration ---\n",
    "year, month = 2025, 3\n",
    "max_files_to_download = 5  # For testing; set to None to process all new files\n",
    "local_dir = Path(\"../data/raw/better_downloading_experiments\")\n",
    "local_dir.mkdir(parents=True, exist_ok=True)\n",
    "\n",
    "# Define the path for the DuckDB database file.\n",
    "db_path = Path(\"../data/processed/chess_games.db\")\n",
    "db_path.parent.mkdir(parents=True, exist_ok=True)\n",
    "\n",
    "\n",
    "# Base config for processing. This will be used for each file.\n",
    "base_config = ProcessingConfig(\n",
    "    parquet_path=\"\",  # This will be set per-file\n",
    "    db_path=db_path,\n",
    "    batch_size=1_500_000,\n",
    "    min_player_rating=1200,\n",
    "    max_elo_difference_between_players=100,\n",
    "    allowed_time_controls={\"Blitz\", \"Rapid\", \"Classical\"},\n",
    ")\n",
    "\n",
    "# --- Database Initialization ---\n",
    "# Set up the database schema before starting any processing.\n",
    "# This is idempotent; it will only create tables if they don't exist.\n",
    "with get_db_connection(db_path) as con:\n",
    "    setup_database(con)\n",
    "\n",
    "\n",
    "# --- File Selection ---\n",
    "# Use the list of non-duplicate files from the previous cell\n",
    "files_to_download = non_dupe_files\n",
    "if max_files_to_download is not None:\n",
    "    files_to_download = non_dupe_files[:max_files_to_download]\n",
    "\n",
    "print(f\"Prepared to download and process {len(files_to_download)} files.\")"
   ]
  },
  {
   "cell_type": "markdown",
   "id": "7aa2fbd3",
   "metadata": {},
   "source": [
    "## Downloading, processing, deleting\n",
    "\n",
    "Now, we'lll download, process and delete our raw data files one by one.\n",
    "\n",
    "The workflow is:\n",
    "\n",
    "1. Download a file\n",
    "2. Process that file, extracting the game data we want\n",
    "3. Delete that file"
   ]
  },
  {
   "cell_type": "code",
   "execution_count": 5,
   "id": "8dcd4c66",
   "metadata": {},
   "outputs": [
    {
     "name": "stdout",
     "output_type": "stream",
     "text": [
      "\n",
      "--- Downloading [1/10] ---\n",
      "File saved to ../data/raw/better_downloading_experiments/2025-03-train-00000-of-00069.parquet\n",
      "Successfully downloaded: 2025-03-train-00000-of-00069.parquet\n",
      "File saved to ../data/raw/better_downloading_experiments/2025-03-train-00000-of-00069.parquet\n",
      "Successfully downloaded: 2025-03-train-00000-of-00069.parquet\n",
      "Processing 1,410,475 rows in 1 batches of size 1,500,000\n",
      "\n",
      "--- Starting Batch 1/1 ---\n",
      "Processing 1,410,475 rows in 1 batches of size 1,500,000\n",
      "\n",
      "--- Starting Batch 1/1 ---\n"
     ]
    },
    {
     "data": {
      "application/vnd.jupyter.widget-view+json": {
       "model_id": "ba935c20248646498e49af237ae92cdd",
       "version_major": 2,
       "version_minor": 0
      },
      "text/plain": [
       "FloatProgress(value=0.0, layout=Layout(width='auto'), style=ProgressStyle(bar_color='black'))"
      ]
     },
     "metadata": {},
     "output_type": "display_data"
    },
    {
     "name": "stdout",
     "output_type": "stream",
     "text": [
      "    Processed 620,769 games.\n",
      "    Updated stats for 1,081,675 player-opening combinations (partitioned by ECO letter).\n",
      "\n",
      "--- Batch Timing Metrics ---\n",
      "filter_valid_games: 0.43s\n",
      "extract_players_openings: 0.07s\n",
      "insert_entities: 1.66s\n",
      "aggregate_stats: 0.39s\n",
      "bulk_upsert: 9.41s\n",
      "    Batch processed in 14.87s.\n",
      "    File ETA: 00:00:00\n",
      "\n",
      "File Processing Summary:\n",
      "  total_games: 1410475\n",
      "  total_time_sec: 15.056173086166382\n",
      "  avg_batch_time_sec: 14.867581844329834\n",
      "  min_batch_time_sec: 14.867581844329834\n",
      "  max_batch_time_sec: 14.867581844329834\n",
      "  avg_batch_size: 1410475.0\n",
      "  overall_rate_games_per_sec: 93680.84385905108\n",
      "  memory_usage: [{'percent': 40.5, 'used_gb': 12.052871704101562, 'available_gb': 19.03714370727539}]\n",
      "  accepted_games: 620769\n",
      "  filtered_games: 789706\n",
      "  acceptance_rate_percent: 44.0\n",
      "Running VACUUM on the database...\n",
      "VACUUM complete. Elapsed time: 0.00 seconds.\n",
      "VACUUM took 0.00 seconds for this file.\n",
      "Database connection closed.\n",
      "\n",
      "--- Detailed Timing Metrics ---\n",
      "metadata_retrieval: 0.19s\n",
      "batch_query_1: 2.88s\n",
      "batch_processing_1: 11.99s\n",
      "vacuum: 0.00s\n",
      "PROCESSING SUCCESSFUL for 2025-03-train-00000-of-00069.parquet\n",
      "Registered file as processed.\n",
      "Deleted local file: 2025-03-train-00000-of-00069.parquet\n",
      "\n",
      "--- Downloading [2/10] ---\n",
      "PROCESSING SUCCESSFUL for 2025-03-train-00000-of-00069.parquet\n",
      "Registered file as processed.\n",
      "Deleted local file: 2025-03-train-00000-of-00069.parquet\n",
      "\n",
      "--- Downloading [2/10] ---\n",
      "File saved to ../data/raw/better_downloading_experiments/2025-03-train-00001-of-00069.parquet\n",
      "Successfully downloaded: 2025-03-train-00001-of-00069.parquet\n",
      "Processing 1,410,372 rows in 1 batches of size 1,500,000\n",
      "\n",
      "--- Starting Batch 1/1 ---\n",
      "File saved to ../data/raw/better_downloading_experiments/2025-03-train-00001-of-00069.parquet\n",
      "Successfully downloaded: 2025-03-train-00001-of-00069.parquet\n",
      "Processing 1,410,372 rows in 1 batches of size 1,500,000\n",
      "\n",
      "--- Starting Batch 1/1 ---\n"
     ]
    },
    {
     "data": {
      "application/vnd.jupyter.widget-view+json": {
       "model_id": "33c77fb933924e2db11ca783d7a79247",
       "version_major": 2,
       "version_minor": 0
      },
      "text/plain": [
       "FloatProgress(value=0.0, layout=Layout(width='auto'), style=ProgressStyle(bar_color='black'))"
      ]
     },
     "metadata": {},
     "output_type": "display_data"
    },
    {
     "data": {
      "application/vnd.jupyter.widget-view+json": {
       "model_id": "7452cabe833643549d2d63485361667e",
       "version_major": 2,
       "version_minor": 0
      },
      "text/plain": [
       "FloatProgress(value=0.0, layout=Layout(width='auto'), style=ProgressStyle(bar_color='black'))"
      ]
     },
     "metadata": {},
     "output_type": "display_data"
    },
    {
     "name": "stdout",
     "output_type": "stream",
     "text": [
      "    Processed 618,647 games.\n",
      "    Updated stats for 1,081,239 player-opening combinations (partitioned by ECO letter).\n",
      "\n",
      "--- Batch Timing Metrics ---\n",
      "filter_valid_games: 0.44s\n",
      "extract_players_openings: 0.08s\n",
      "insert_entities: 1.72s\n",
      "aggregate_stats: 0.28s\n",
      "bulk_upsert: 12.26s\n",
      "    Batch processed in 17.47s.\n",
      "    File ETA: 00:00:00\n",
      "\n",
      "File Processing Summary:\n",
      "  total_games: 1410372\n",
      "  total_time_sec: 17.586232900619507\n",
      "  avg_batch_time_sec: 17.47227191925049\n",
      "  min_batch_time_sec: 17.47227191925049\n",
      "  max_batch_time_sec: 17.47227191925049\n",
      "  avg_batch_size: 1410372.0\n",
      "  overall_rate_games_per_sec: 80197.50494435435\n",
      "  memory_usage: [{'percent': 40.4, 'used_gb': 12.006332397460938, 'available_gb': 19.083538055419922}]\n",
      "  accepted_games: 618647\n",
      "  filtered_games: 791725\n",
      "  acceptance_rate_percent: 43.9\n",
      "Running VACUUM on the database...\n",
      "VACUUM complete. Elapsed time: 0.00 seconds.\n",
      "VACUUM took 0.00 seconds for this file.\n",
      "Database connection closed.\n",
      "\n",
      "--- Detailed Timing Metrics ---\n",
      "metadata_retrieval: 0.11s\n",
      "batch_query_1: 2.68s\n",
      "batch_processing_1: 14.79s\n",
      "vacuum: 0.00s\n",
      "PROCESSING SUCCESSFUL for 2025-03-train-00001-of-00069.parquet\n",
      "Registered file as processed.\n",
      "Deleted local file: 2025-03-train-00001-of-00069.parquet\n",
      "\n",
      "--- Downloading [3/10] ---\n",
      "PROCESSING SUCCESSFUL for 2025-03-train-00001-of-00069.parquet\n",
      "Registered file as processed.\n",
      "Deleted local file: 2025-03-train-00001-of-00069.parquet\n",
      "\n",
      "--- Downloading [3/10] ---\n",
      "File saved to ../data/raw/better_downloading_experiments/2025-03-train-00002-of-00069.parquet\n",
      "Successfully downloaded: 2025-03-train-00002-of-00069.parquet\n",
      "Processing 1,410,528 rows in 1 batches of size 1,500,000\n",
      "\n",
      "--- Starting Batch 1/1 ---\n",
      "File saved to ../data/raw/better_downloading_experiments/2025-03-train-00002-of-00069.parquet\n",
      "Successfully downloaded: 2025-03-train-00002-of-00069.parquet\n",
      "Processing 1,410,528 rows in 1 batches of size 1,500,000\n",
      "\n",
      "--- Starting Batch 1/1 ---\n"
     ]
    },
    {
     "data": {
      "application/vnd.jupyter.widget-view+json": {
       "model_id": "62530047ab404f8bb09e2fe919f886e8",
       "version_major": 2,
       "version_minor": 0
      },
      "text/plain": [
       "FloatProgress(value=0.0, layout=Layout(width='auto'), style=ProgressStyle(bar_color='black'))"
      ]
     },
     "metadata": {},
     "output_type": "display_data"
    },
    {
     "data": {
      "application/vnd.jupyter.widget-view+json": {
       "model_id": "c44d785152de486da70266b0f7d435d1",
       "version_major": 2,
       "version_minor": 0
      },
      "text/plain": [
       "FloatProgress(value=0.0, layout=Layout(width='auto'), style=ProgressStyle(bar_color='black'))"
      ]
     },
     "metadata": {},
     "output_type": "display_data"
    },
    {
     "data": {
      "application/vnd.jupyter.widget-view+json": {
       "model_id": "18a5967c21c048eeb482ec1ceec57521",
       "version_major": 2,
       "version_minor": 0
      },
      "text/plain": [
       "FloatProgress(value=0.0, layout=Layout(width='auto'), style=ProgressStyle(bar_color='black'))"
      ]
     },
     "metadata": {},
     "output_type": "display_data"
    },
    {
     "name": "stdout",
     "output_type": "stream",
     "text": [
      "    Processed 623,441 games.\n",
      "    Updated stats for 1,078,837 player-opening combinations (partitioned by ECO letter).\n",
      "\n",
      "--- Batch Timing Metrics ---\n",
      "filter_valid_games: 0.53s\n",
      "extract_players_openings: 0.08s\n",
      "insert_entities: 1.59s\n",
      "aggregate_stats: 0.29s\n",
      "bulk_upsert: 16.23s\n",
      "    Batch processed in 21.48s.\n",
      "    File ETA: 00:00:00\n",
      "\n",
      "File Processing Summary:\n",
      "  total_games: 1410528\n",
      "  total_time_sec: 21.597620010375977\n",
      "  avg_batch_time_sec: 21.484920740127563\n",
      "  min_batch_time_sec: 21.484920740127563\n",
      "  max_batch_time_sec: 21.484920740127563\n",
      "  avg_batch_size: 1410528.0\n",
      "  overall_rate_games_per_sec: 65309.41832120164\n",
      "  memory_usage: [{'percent': 40.7, 'used_gb': 12.117416381835938, 'available_gb': 18.971492767333984}]\n",
      "  accepted_games: 623441\n",
      "  filtered_games: 787087\n",
      "  acceptance_rate_percent: 44.2\n",
      "Running VACUUM on the database...\n",
      "VACUUM complete. Elapsed time: 0.00 seconds.\n",
      "VACUUM took 0.00 seconds for this file.\n",
      "Database connection closed.\n",
      "\n",
      "--- Detailed Timing Metrics ---\n",
      "metadata_retrieval: 0.11s\n",
      "batch_query_1: 2.75s\n",
      "batch_processing_1: 18.73s\n",
      "vacuum: 0.00s\n",
      "PROCESSING SUCCESSFUL for 2025-03-train-00002-of-00069.parquet\n",
      "Registered file as processed.\n",
      "Deleted local file: 2025-03-train-00002-of-00069.parquet\n",
      "\n",
      "--- Downloading [4/10] ---\n",
      "PROCESSING SUCCESSFUL for 2025-03-train-00002-of-00069.parquet\n",
      "Registered file as processed.\n",
      "Deleted local file: 2025-03-train-00002-of-00069.parquet\n",
      "\n",
      "--- Downloading [4/10] ---\n",
      "File saved to ../data/raw/better_downloading_experiments/2025-03-train-00003-of-00069.parquet\n",
      "Successfully downloaded: 2025-03-train-00003-of-00069.parquet\n",
      "File saved to ../data/raw/better_downloading_experiments/2025-03-train-00003-of-00069.parquet\n",
      "Successfully downloaded: 2025-03-train-00003-of-00069.parquet\n",
      "Processing 1,409,773 rows in 1 batches of size 1,500,000\n",
      "\n",
      "--- Starting Batch 1/1 ---\n",
      "Processing 1,409,773 rows in 1 batches of size 1,500,000\n",
      "\n",
      "--- Starting Batch 1/1 ---\n"
     ]
    },
    {
     "data": {
      "application/vnd.jupyter.widget-view+json": {
       "model_id": "87aca6d7ba5b4f2bbd66e9b1b06622e6",
       "version_major": 2,
       "version_minor": 0
      },
      "text/plain": [
       "FloatProgress(value=0.0, layout=Layout(width='auto'), style=ProgressStyle(bar_color='black'))"
      ]
     },
     "metadata": {},
     "output_type": "display_data"
    },
    {
     "data": {
      "application/vnd.jupyter.widget-view+json": {
       "model_id": "e3593d42e08a41438d137740c633de8c",
       "version_major": 2,
       "version_minor": 0
      },
      "text/plain": [
       "FloatProgress(value=0.0, layout=Layout(width='auto'), style=ProgressStyle(bar_color='black'))"
      ]
     },
     "metadata": {},
     "output_type": "display_data"
    },
    {
     "data": {
      "application/vnd.jupyter.widget-view+json": {
       "model_id": "72ff3c30b2134e17be30399d0e5e9d72",
       "version_major": 2,
       "version_minor": 0
      },
      "text/plain": [
       "FloatProgress(value=0.0, layout=Layout(width='auto'), style=ProgressStyle(bar_color='black'))"
      ]
     },
     "metadata": {},
     "output_type": "display_data"
    },
    {
     "data": {
      "application/vnd.jupyter.widget-view+json": {
       "model_id": "ec179c423410493badbca1131e594706",
       "version_major": 2,
       "version_minor": 0
      },
      "text/plain": [
       "FloatProgress(value=0.0, layout=Layout(width='auto'), style=ProgressStyle(bar_color='black'))"
      ]
     },
     "metadata": {},
     "output_type": "display_data"
    },
    {
     "name": "stdout",
     "output_type": "stream",
     "text": [
      "    Processed 613,739 games.\n",
      "    Updated stats for 1,076,537 player-opening combinations (partitioned by ECO letter).\n",
      "\n",
      "--- Batch Timing Metrics ---\n",
      "filter_valid_games: 0.43s\n",
      "extract_players_openings: 0.09s\n",
      "insert_entities: 1.58s\n",
      "aggregate_stats: 0.31s\n",
      "bulk_upsert: 17.95s\n",
      "    Batch processed in 23.19s.\n",
      "    File ETA: 00:00:00\n",
      "\n",
      "File Processing Summary:\n",
      "  total_games: 1409773\n",
      "  total_time_sec: 23.320396900177002\n",
      "  avg_batch_time_sec: 23.185829162597656\n",
      "  min_batch_time_sec: 23.185829162597656\n",
      "  max_batch_time_sec: 23.185829162597656\n",
      "  avg_batch_size: 1409773.0\n",
      "  overall_rate_games_per_sec: 60452.358767071404\n",
      "  memory_usage: [{'percent': 41.0, 'used_gb': 12.221397399902344, 'available_gb': 18.868572235107422}]\n",
      "  accepted_games: 613739\n",
      "  filtered_games: 796034\n",
      "  acceptance_rate_percent: 43.5\n",
      "Running VACUUM on the database...\n",
      "VACUUM complete. Elapsed time: 0.00 seconds.\n",
      "VACUUM took 0.00 seconds for this file.\n",
      "Database connection closed.\n",
      "\n",
      "--- Detailed Timing Metrics ---\n",
      "metadata_retrieval: 0.13s\n",
      "batch_query_1: 2.81s\n",
      "batch_processing_1: 20.37s\n",
      "vacuum: 0.00s\n",
      "PROCESSING SUCCESSFUL for 2025-03-train-00003-of-00069.parquet\n",
      "Registered file as processed.\n",
      "Deleted local file: 2025-03-train-00003-of-00069.parquet\n",
      "\n",
      "--- Downloading [5/10] ---\n",
      "PROCESSING SUCCESSFUL for 2025-03-train-00003-of-00069.parquet\n",
      "Registered file as processed.\n",
      "Deleted local file: 2025-03-train-00003-of-00069.parquet\n",
      "\n",
      "--- Downloading [5/10] ---\n",
      "File saved to ../data/raw/better_downloading_experiments/2025-03-train-00004-of-00069.parquet\n",
      "Successfully downloaded: 2025-03-train-00004-of-00069.parquet\n",
      "Processing 1,411,262 rows in 1 batches of size 1,500,000\n",
      "\n",
      "--- Starting Batch 1/1 ---\n",
      "File saved to ../data/raw/better_downloading_experiments/2025-03-train-00004-of-00069.parquet\n",
      "Successfully downloaded: 2025-03-train-00004-of-00069.parquet\n",
      "Processing 1,411,262 rows in 1 batches of size 1,500,000\n",
      "\n",
      "--- Starting Batch 1/1 ---\n"
     ]
    },
    {
     "data": {
      "application/vnd.jupyter.widget-view+json": {
       "model_id": "ed57feed17554a6fae828e662998fbe2",
       "version_major": 2,
       "version_minor": 0
      },
      "text/plain": [
       "FloatProgress(value=0.0, layout=Layout(width='auto'), style=ProgressStyle(bar_color='black'))"
      ]
     },
     "metadata": {},
     "output_type": "display_data"
    },
    {
     "data": {
      "application/vnd.jupyter.widget-view+json": {
       "model_id": "b9f214c4b5474173a2be6796c5affc96",
       "version_major": 2,
       "version_minor": 0
      },
      "text/plain": [
       "FloatProgress(value=0.0, layout=Layout(width='auto'), style=ProgressStyle(bar_color='black'))"
      ]
     },
     "metadata": {},
     "output_type": "display_data"
    },
    {
     "data": {
      "application/vnd.jupyter.widget-view+json": {
       "model_id": "b211cfcaf27246deac56c96601e572b1",
       "version_major": 2,
       "version_minor": 0
      },
      "text/plain": [
       "FloatProgress(value=0.0, layout=Layout(width='auto'), style=ProgressStyle(bar_color='black'))"
      ]
     },
     "metadata": {},
     "output_type": "display_data"
    },
    {
     "name": "stdout",
     "output_type": "stream",
     "text": [
      "    Processed 619,869 games.\n",
      "    Updated stats for 1,074,957 player-opening combinations (partitioned by ECO letter).\n",
      "\n",
      "--- Batch Timing Metrics ---\n",
      "filter_valid_games: 0.44s\n",
      "extract_players_openings: 0.09s\n",
      "insert_entities: 1.58s\n",
      "aggregate_stats: 0.40s\n",
      "bulk_upsert: 18.59s\n",
      "    Batch processed in 23.84s.\n",
      "    File ETA: 00:00:00\n",
      "\n",
      "File Processing Summary:\n",
      "  total_games: 1411262\n",
      "  total_time_sec: 23.958751916885376\n",
      "  avg_batch_time_sec: 23.842582941055298\n",
      "  min_batch_time_sec: 23.842582941055298\n",
      "  max_batch_time_sec: 23.842582941055298\n",
      "  avg_batch_size: 1411262.0\n",
      "  overall_rate_games_per_sec: 58903.819568555526\n",
      "  memory_usage: [{'percent': 41.3, 'used_gb': 12.30267333984375, 'available_gb': 18.78677749633789}]\n",
      "  accepted_games: 619869\n",
      "  filtered_games: 791393\n",
      "  acceptance_rate_percent: 43.9\n",
      "Running VACUUM on the database...\n",
      "VACUUM complete. Elapsed time: 0.00 seconds.\n",
      "VACUUM took 0.00 seconds for this file.\n",
      "Database connection closed.\n",
      "\n",
      "--- Detailed Timing Metrics ---\n",
      "metadata_retrieval: 0.12s\n",
      "batch_query_1: 2.72s\n",
      "batch_processing_1: 21.12s\n",
      "vacuum: 0.00s\n",
      "PROCESSING SUCCESSFUL for 2025-03-train-00004-of-00069.parquet\n",
      "Registered file as processed.\n",
      "Deleted local file: 2025-03-train-00004-of-00069.parquet\n",
      "\n",
      "--- Downloading [6/10] ---\n",
      "PROCESSING SUCCESSFUL for 2025-03-train-00004-of-00069.parquet\n",
      "Registered file as processed.\n",
      "Deleted local file: 2025-03-train-00004-of-00069.parquet\n",
      "\n",
      "--- Downloading [6/10] ---\n",
      "File saved to ../data/raw/better_downloading_experiments/2025-03-train-00005-of-00069.parquet\n",
      "Successfully downloaded: 2025-03-train-00005-of-00069.parquet\n",
      "File saved to ../data/raw/better_downloading_experiments/2025-03-train-00005-of-00069.parquet\n",
      "Successfully downloaded: 2025-03-train-00005-of-00069.parquet\n",
      "Processing 1,410,815 rows in 1 batches of size 1,500,000\n",
      "\n",
      "--- Starting Batch 1/1 ---\n",
      "Processing 1,410,815 rows in 1 batches of size 1,500,000\n",
      "\n",
      "--- Starting Batch 1/1 ---\n"
     ]
    },
    {
     "data": {
      "application/vnd.jupyter.widget-view+json": {
       "model_id": "ca0e632f890d4e06924598f010fc873f",
       "version_major": 2,
       "version_minor": 0
      },
      "text/plain": [
       "FloatProgress(value=0.0, layout=Layout(width='auto'), style=ProgressStyle(bar_color='black'))"
      ]
     },
     "metadata": {},
     "output_type": "display_data"
    },
    {
     "data": {
      "application/vnd.jupyter.widget-view+json": {
       "model_id": "f9ef60131a8c4670983c88a637a404aa",
       "version_major": 2,
       "version_minor": 0
      },
      "text/plain": [
       "FloatProgress(value=0.0, layout=Layout(width='auto'), style=ProgressStyle(bar_color='black'))"
      ]
     },
     "metadata": {},
     "output_type": "display_data"
    },
    {
     "data": {
      "application/vnd.jupyter.widget-view+json": {
       "model_id": "ffac7ac0f1b147d397cd39694b3861a7",
       "version_major": 2,
       "version_minor": 0
      },
      "text/plain": [
       "FloatProgress(value=0.0, layout=Layout(width='auto'), style=ProgressStyle(bar_color='black'))"
      ]
     },
     "metadata": {},
     "output_type": "display_data"
    },
    {
     "name": "stdout",
     "output_type": "stream",
     "text": [
      "    Processed 623,841 games.\n",
      "    Updated stats for 1,094,477 player-opening combinations (partitioned by ECO letter).\n",
      "\n",
      "--- Batch Timing Metrics ---\n",
      "filter_valid_games: 0.41s\n",
      "extract_players_openings: 0.09s\n",
      "insert_entities: 1.51s\n",
      "aggregate_stats: 0.40s\n",
      "bulk_upsert: 20.05s\n",
      "    Batch processed in 25.22s.\n",
      "    File ETA: 00:00:00\n",
      "\n",
      "File Processing Summary:\n",
      "  total_games: 1410815\n",
      "  total_time_sec: 25.352068185806274\n",
      "  avg_batch_time_sec: 25.221807956695557\n",
      "  min_batch_time_sec: 25.221807956695557\n",
      "  max_batch_time_sec: 25.221807956695557\n",
      "  avg_batch_size: 1410815.0\n",
      "  overall_rate_games_per_sec: 55648.91154678518\n",
      "  memory_usage: [{'percent': 41.6, 'used_gb': 12.405353546142578, 'available_gb': 18.683609008789062}]\n",
      "  accepted_games: 623841\n",
      "  filtered_games: 786974\n",
      "  acceptance_rate_percent: 44.2\n",
      "Running VACUUM on the database...\n",
      "VACUUM complete. Elapsed time: 0.00 seconds.\n",
      "VACUUM took 0.00 seconds for this file.\n",
      "Database connection closed.\n",
      "\n",
      "--- Detailed Timing Metrics ---\n",
      "metadata_retrieval: 0.13s\n",
      "batch_query_1: 2.74s\n",
      "batch_processing_1: 22.48s\n",
      "vacuum: 0.00s\n",
      "Database connection closed.\n",
      "\n",
      "--- Detailed Timing Metrics ---\n",
      "metadata_retrieval: 0.13s\n",
      "batch_query_1: 2.74s\n",
      "batch_processing_1: 22.48s\n",
      "vacuum: 0.00s\n",
      "PROCESSING SUCCESSFUL for 2025-03-train-00005-of-00069.parquet\n",
      "Registered file as processed.\n",
      "Deleted local file: 2025-03-train-00005-of-00069.parquet\n",
      "\n",
      "--- Downloading [7/10] ---\n",
      "PROCESSING SUCCESSFUL for 2025-03-train-00005-of-00069.parquet\n",
      "Registered file as processed.\n",
      "Deleted local file: 2025-03-train-00005-of-00069.parquet\n",
      "\n",
      "--- Downloading [7/10] ---\n",
      "File saved to ../data/raw/better_downloading_experiments/2025-03-train-00006-of-00069.parquet\n",
      "Successfully downloaded: 2025-03-train-00006-of-00069.parquet\n",
      "Processing 1,411,185 rows in 1 batches of size 1,500,000\n",
      "\n",
      "--- Starting Batch 1/1 ---\n",
      "File saved to ../data/raw/better_downloading_experiments/2025-03-train-00006-of-00069.parquet\n",
      "Successfully downloaded: 2025-03-train-00006-of-00069.parquet\n",
      "Processing 1,411,185 rows in 1 batches of size 1,500,000\n",
      "\n",
      "--- Starting Batch 1/1 ---\n"
     ]
    },
    {
     "data": {
      "application/vnd.jupyter.widget-view+json": {
       "model_id": "e37f5b3afe434be7a4c30dd1770bb7d5",
       "version_major": 2,
       "version_minor": 0
      },
      "text/plain": [
       "FloatProgress(value=0.0, layout=Layout(width='auto'), style=ProgressStyle(bar_color='black'))"
      ]
     },
     "metadata": {},
     "output_type": "display_data"
    },
    {
     "data": {
      "application/vnd.jupyter.widget-view+json": {
       "model_id": "9067d5605f97491f95493867fbe9d8e4",
       "version_major": 2,
       "version_minor": 0
      },
      "text/plain": [
       "FloatProgress(value=0.0, layout=Layout(width='auto'), style=ProgressStyle(bar_color='black'))"
      ]
     },
     "metadata": {},
     "output_type": "display_data"
    },
    {
     "data": {
      "application/vnd.jupyter.widget-view+json": {
       "model_id": "0c15095ac879438cb8eceadd997a75c5",
       "version_major": 2,
       "version_minor": 0
      },
      "text/plain": [
       "FloatProgress(value=0.0, layout=Layout(width='auto'), style=ProgressStyle(bar_color='black'))"
      ]
     },
     "metadata": {},
     "output_type": "display_data"
    },
    {
     "data": {
      "application/vnd.jupyter.widget-view+json": {
       "model_id": "990573edc78143a0aedc05a739fde830",
       "version_major": 2,
       "version_minor": 0
      },
      "text/plain": [
       "FloatProgress(value=0.0, layout=Layout(width='auto'), style=ProgressStyle(bar_color='black'))"
      ]
     },
     "metadata": {},
     "output_type": "display_data"
    },
    {
     "name": "stdout",
     "output_type": "stream",
     "text": [
      "    Processed 613,428 games.\n",
      "    Updated stats for 1,066,078 player-opening combinations (partitioned by ECO letter).\n",
      "\n",
      "--- Batch Timing Metrics ---\n",
      "filter_valid_games: 0.49s\n",
      "extract_players_openings: 0.08s\n",
      "insert_entities: 1.28s\n",
      "aggregate_stats: 0.37s\n",
      "bulk_upsert: 22.65s\n",
      "    Batch processed in 27.44s.\n",
      "    File ETA: 00:00:00\n",
      "\n",
      "File Processing Summary:\n",
      "  total_games: 1411185\n",
      "  total_time_sec: 27.549126863479614\n",
      "  avg_batch_time_sec: 27.436647176742554\n",
      "  min_batch_time_sec: 27.436647176742554\n",
      "  max_batch_time_sec: 27.436647176742554\n",
      "  avg_batch_size: 1411185.0\n",
      "  overall_rate_games_per_sec: 51224.30946698102\n",
      "  memory_usage: [{'percent': 41.8, 'used_gb': 12.464088439941406, 'available_gb': 18.62494659423828}]\n",
      "  accepted_games: 613428\n",
      "  filtered_games: 797757\n",
      "  acceptance_rate_percent: 43.5\n",
      "Running VACUUM on the database...\n",
      "VACUUM complete. Elapsed time: 0.00 seconds.\n",
      "VACUUM took 0.00 seconds for this file.\n",
      "Database connection closed.\n",
      "\n",
      "--- Detailed Timing Metrics ---\n",
      "metadata_retrieval: 0.11s\n",
      "batch_query_1: 2.54s\n",
      "batch_processing_1: 24.90s\n",
      "vacuum: 0.00s\n",
      "PROCESSING SUCCESSFUL for 2025-03-train-00006-of-00069.parquet\n",
      "Registered file as processed.\n",
      "Deleted local file: 2025-03-train-00006-of-00069.parquet\n",
      "\n",
      "--- Downloading [8/10] ---\n",
      "Database connection closed.\n",
      "\n",
      "--- Detailed Timing Metrics ---\n",
      "metadata_retrieval: 0.11s\n",
      "batch_query_1: 2.54s\n",
      "batch_processing_1: 24.90s\n",
      "vacuum: 0.00s\n",
      "PROCESSING SUCCESSFUL for 2025-03-train-00006-of-00069.parquet\n",
      "Registered file as processed.\n",
      "Deleted local file: 2025-03-train-00006-of-00069.parquet\n",
      "\n",
      "--- Downloading [8/10] ---\n",
      "File saved to ../data/raw/better_downloading_experiments/2025-03-train-00007-of-00069.parquet\n",
      "Successfully downloaded: 2025-03-train-00007-of-00069.parquet\n",
      "Processing 1,410,968 rows in 1 batches of size 1,500,000\n",
      "\n",
      "--- Starting Batch 1/1 ---\n",
      "File saved to ../data/raw/better_downloading_experiments/2025-03-train-00007-of-00069.parquet\n",
      "Successfully downloaded: 2025-03-train-00007-of-00069.parquet\n",
      "Processing 1,410,968 rows in 1 batches of size 1,500,000\n",
      "\n",
      "--- Starting Batch 1/1 ---\n"
     ]
    },
    {
     "data": {
      "application/vnd.jupyter.widget-view+json": {
       "model_id": "fca6d69d9ae9445aa4a5500bd41b63dd",
       "version_major": 2,
       "version_minor": 0
      },
      "text/plain": [
       "FloatProgress(value=0.0, layout=Layout(width='auto'), style=ProgressStyle(bar_color='black'))"
      ]
     },
     "metadata": {},
     "output_type": "display_data"
    },
    {
     "data": {
      "application/vnd.jupyter.widget-view+json": {
       "model_id": "80f243a814a0477897fab03c6e43d1ee",
       "version_major": 2,
       "version_minor": 0
      },
      "text/plain": [
       "FloatProgress(value=0.0, layout=Layout(width='auto'), style=ProgressStyle(bar_color='black'))"
      ]
     },
     "metadata": {},
     "output_type": "display_data"
    },
    {
     "data": {
      "application/vnd.jupyter.widget-view+json": {
       "model_id": "5b8ee07589e24843b1f34325f9581df1",
       "version_major": 2,
       "version_minor": 0
      },
      "text/plain": [
       "FloatProgress(value=0.0, layout=Layout(width='auto'), style=ProgressStyle(bar_color='black'))"
      ]
     },
     "metadata": {},
     "output_type": "display_data"
    },
    {
     "name": "stdout",
     "output_type": "stream",
     "text": [
      "    Processed 628,517 games.\n",
      "    Updated stats for 1,094,917 player-opening combinations (partitioned by ECO letter).\n",
      "\n",
      "--- Batch Timing Metrics ---\n",
      "filter_valid_games: 0.44s\n",
      "extract_players_openings: 0.09s\n",
      "insert_entities: 1.48s\n",
      "aggregate_stats: 0.38s\n",
      "bulk_upsert: 22.80s\n",
      "    Batch processed in 27.95s.\n",
      "    File ETA: 00:00:00\n",
      "\n",
      "File Processing Summary:\n",
      "  total_games: 1410968\n",
      "  total_time_sec: 28.073933124542236\n",
      "  avg_batch_time_sec: 27.953838109970093\n",
      "  min_batch_time_sec: 27.953838109970093\n",
      "  max_batch_time_sec: 27.953838109970093\n",
      "  avg_batch_size: 1410968.0\n",
      "  overall_rate_games_per_sec: 50259.006949280345\n",
      "  memory_usage: [{'percent': 41.7, 'used_gb': 12.417572021484375, 'available_gb': 18.671810150146484}]\n",
      "  accepted_games: 628517\n",
      "  filtered_games: 782451\n",
      "  acceptance_rate_percent: 44.5\n",
      "Running VACUUM on the database...\n",
      "VACUUM complete. Elapsed time: 0.00 seconds.\n",
      "VACUUM took 0.00 seconds for this file.\n",
      "Database connection closed.\n",
      "\n",
      "--- Detailed Timing Metrics ---\n",
      "metadata_retrieval: 0.12s\n",
      "batch_query_1: 2.75s\n",
      "batch_processing_1: 25.21s\n",
      "vacuum: 0.00s\n",
      "PROCESSING SUCCESSFUL for 2025-03-train-00007-of-00069.parquet\n",
      "Registered file as processed.\n",
      "Deleted local file: 2025-03-train-00007-of-00069.parquet\n",
      "\n",
      "--- Downloading [9/10] ---\n",
      "Database connection closed.\n",
      "\n",
      "--- Detailed Timing Metrics ---\n",
      "metadata_retrieval: 0.12s\n",
      "batch_query_1: 2.75s\n",
      "batch_processing_1: 25.21s\n",
      "vacuum: 0.00s\n",
      "PROCESSING SUCCESSFUL for 2025-03-train-00007-of-00069.parquet\n",
      "Registered file as processed.\n",
      "Deleted local file: 2025-03-train-00007-of-00069.parquet\n",
      "\n",
      "--- Downloading [9/10] ---\n",
      "File saved to ../data/raw/better_downloading_experiments/2025-03-train-00008-of-00069.parquet\n",
      "Successfully downloaded: 2025-03-train-00008-of-00069.parquet\n",
      "File saved to ../data/raw/better_downloading_experiments/2025-03-train-00008-of-00069.parquet\n",
      "Successfully downloaded: 2025-03-train-00008-of-00069.parquet\n",
      "Processing 1,410,743 rows in 1 batches of size 1,500,000\n",
      "\n",
      "--- Starting Batch 1/1 ---\n",
      "Processing 1,410,743 rows in 1 batches of size 1,500,000\n",
      "\n",
      "--- Starting Batch 1/1 ---\n"
     ]
    },
    {
     "data": {
      "application/vnd.jupyter.widget-view+json": {
       "model_id": "78ca3fdcd7e5402ebf649c9daf288f33",
       "version_major": 2,
       "version_minor": 0
      },
      "text/plain": [
       "FloatProgress(value=0.0, layout=Layout(width='auto'), style=ProgressStyle(bar_color='black'))"
      ]
     },
     "metadata": {},
     "output_type": "display_data"
    },
    {
     "data": {
      "application/vnd.jupyter.widget-view+json": {
       "model_id": "39ff70f873664d7a862255f1956be911",
       "version_major": 2,
       "version_minor": 0
      },
      "text/plain": [
       "FloatProgress(value=0.0, layout=Layout(width='auto'), style=ProgressStyle(bar_color='black'))"
      ]
     },
     "metadata": {},
     "output_type": "display_data"
    },
    {
     "data": {
      "application/vnd.jupyter.widget-view+json": {
       "model_id": "f1c3c2008a33494292a85155d8efc24f",
       "version_major": 2,
       "version_minor": 0
      },
      "text/plain": [
       "FloatProgress(value=0.0, layout=Layout(width='auto'), style=ProgressStyle(bar_color='black'))"
      ]
     },
     "metadata": {},
     "output_type": "display_data"
    },
    {
     "data": {
      "application/vnd.jupyter.widget-view+json": {
       "model_id": "65a60dfeff264b04ae14c0458335a106",
       "version_major": 2,
       "version_minor": 0
      },
      "text/plain": [
       "FloatProgress(value=0.0, layout=Layout(width='auto'), style=ProgressStyle(bar_color='black'))"
      ]
     },
     "metadata": {},
     "output_type": "display_data"
    },
    {
     "name": "stdout",
     "output_type": "stream",
     "text": [
      "    Processed 614,920 games.\n",
      "    Updated stats for 1,074,234 player-opening combinations (partitioned by ECO letter).\n",
      "\n",
      "--- Batch Timing Metrics ---\n",
      "filter_valid_games: 0.41s\n",
      "extract_players_openings: 0.08s\n",
      "insert_entities: 1.55s\n",
      "aggregate_stats: 0.39s\n",
      "bulk_upsert: 22.99s\n",
      "    Batch processed in 27.89s.\n",
      "    File ETA: 00:00:00\n",
      "\n",
      "File Processing Summary:\n",
      "  total_games: 1410743\n",
      "  total_time_sec: 28.024264097213745\n",
      "  avg_batch_time_sec: 27.89228320121765\n",
      "  min_batch_time_sec: 27.89228320121765\n",
      "  max_batch_time_sec: 27.89228320121765\n",
      "  avg_batch_size: 1410743.0\n",
      "  overall_rate_games_per_sec: 50340.05514315219\n",
      "  memory_usage: [{'percent': 41.6, 'used_gb': 12.413520812988281, 'available_gb': 18.676170349121094}]\n",
      "  accepted_games: 614920\n",
      "  filtered_games: 795823\n",
      "  acceptance_rate_percent: 43.6\n",
      "Running VACUUM on the database...\n",
      "VACUUM complete. Elapsed time: 0.00 seconds.\n",
      "VACUUM took 0.00 seconds for this file.\n",
      "Database connection closed.\n",
      "\n",
      "--- Detailed Timing Metrics ---\n",
      "metadata_retrieval: 0.13s\n",
      "batch_query_1: 2.44s\n",
      "batch_processing_1: 25.45s\n",
      "vacuum: 0.00s\n",
      "PROCESSING SUCCESSFUL for 2025-03-train-00008-of-00069.parquet\n",
      "Registered file as processed.\n",
      "Deleted local file: 2025-03-train-00008-of-00069.parquet\n",
      "\n",
      "--- Downloading [10/10] ---\n",
      "Database connection closed.\n",
      "\n",
      "--- Detailed Timing Metrics ---\n",
      "metadata_retrieval: 0.13s\n",
      "batch_query_1: 2.44s\n",
      "batch_processing_1: 25.45s\n",
      "vacuum: 0.00s\n",
      "PROCESSING SUCCESSFUL for 2025-03-train-00008-of-00069.parquet\n",
      "Registered file as processed.\n",
      "Deleted local file: 2025-03-train-00008-of-00069.parquet\n",
      "\n",
      "--- Downloading [10/10] ---\n",
      "File saved to ../data/raw/better_downloading_experiments/2025-03-train-00009-of-00069.parquet\n",
      "Successfully downloaded: 2025-03-train-00009-of-00069.parquet\n",
      "Processing 1,410,874 rows in 1 batches of size 1,500,000\n",
      "\n",
      "--- Starting Batch 1/1 ---\n",
      "File saved to ../data/raw/better_downloading_experiments/2025-03-train-00009-of-00069.parquet\n",
      "Successfully downloaded: 2025-03-train-00009-of-00069.parquet\n",
      "Processing 1,410,874 rows in 1 batches of size 1,500,000\n",
      "\n",
      "--- Starting Batch 1/1 ---\n"
     ]
    },
    {
     "data": {
      "application/vnd.jupyter.widget-view+json": {
       "model_id": "6d4d336494ca480a931ff019aaf1d4de",
       "version_major": 2,
       "version_minor": 0
      },
      "text/plain": [
       "FloatProgress(value=0.0, layout=Layout(width='auto'), style=ProgressStyle(bar_color='black'))"
      ]
     },
     "metadata": {},
     "output_type": "display_data"
    },
    {
     "data": {
      "application/vnd.jupyter.widget-view+json": {
       "model_id": "99d75b207afb4a6187c236983be89e99",
       "version_major": 2,
       "version_minor": 0
      },
      "text/plain": [
       "FloatProgress(value=0.0, layout=Layout(width='auto'), style=ProgressStyle(bar_color='black'))"
      ]
     },
     "metadata": {},
     "output_type": "display_data"
    },
    {
     "data": {
      "application/vnd.jupyter.widget-view+json": {
       "model_id": "629a1ba21ade415f95efc6c9e230fd2a",
       "version_major": 2,
       "version_minor": 0
      },
      "text/plain": [
       "FloatProgress(value=0.0, layout=Layout(width='auto'), style=ProgressStyle(bar_color='black'))"
      ]
     },
     "metadata": {},
     "output_type": "display_data"
    },
    {
     "data": {
      "application/vnd.jupyter.widget-view+json": {
       "model_id": "770735f7ec4841538834cc481dcbbfbf",
       "version_major": 2,
       "version_minor": 0
      },
      "text/plain": [
       "FloatProgress(value=0.0, layout=Layout(width='auto'), style=ProgressStyle(bar_color='black'))"
      ]
     },
     "metadata": {},
     "output_type": "display_data"
    },
    {
     "name": "stdout",
     "output_type": "stream",
     "text": [
      "    Processed 625,192 games.\n",
      "    Updated stats for 1,087,523 player-opening combinations (partitioned by ECO letter).\n",
      "\n",
      "--- Batch Timing Metrics ---\n",
      "filter_valid_games: 0.58s\n",
      "extract_players_openings: 0.10s\n",
      "insert_entities: 1.57s\n",
      "aggregate_stats: 0.40s\n",
      "bulk_upsert: 26.07s\n",
      "    Batch processed in 31.08s.\n",
      "    File ETA: 00:00:00\n",
      "\n",
      "File Processing Summary:\n",
      "  total_games: 1410874\n",
      "  total_time_sec: 31.19522523880005\n",
      "  avg_batch_time_sec: 31.07607913017273\n",
      "  min_batch_time_sec: 31.07607913017273\n",
      "  max_batch_time_sec: 31.07607913017273\n",
      "  avg_batch_size: 1410874.0\n",
      "  overall_rate_games_per_sec: 45227.24196410612\n",
      "  memory_usage: [{'percent': 42.5, 'used_gb': 12.686527252197266, 'available_gb': 18.403160095214844}]\n",
      "  accepted_games: 625192\n",
      "  filtered_games: 785682\n",
      "  acceptance_rate_percent: 44.3\n",
      "Running VACUUM on the database...\n",
      "VACUUM complete. Elapsed time: 0.00 seconds.\n",
      "VACUUM took 0.00 seconds for this file.\n",
      "Database connection closed.\n",
      "\n",
      "--- Detailed Timing Metrics ---\n",
      "metadata_retrieval: 0.12s\n",
      "batch_query_1: 2.33s\n",
      "batch_processing_1: 28.74s\n",
      "vacuum: 0.00s\n",
      "PROCESSING SUCCESSFUL for 2025-03-train-00009-of-00069.parquet\n",
      "Registered file as processed.\n",
      "Deleted local file: 2025-03-train-00009-of-00069.parquet\n",
      "\n",
      "--- Timing Summary ---\n",
      "Download - Avg: 0.42s, Max: 0.50s, Min: 0.37s\n",
      "Process - Avg: 24.62s, Max: 31.73s, Min: 15.37s\n",
      "Register_delete - Avg: 0.04s, Max: 0.04s, Min: 0.03s\n",
      "Total elapsed time: 251.29s\n",
      "Database connection closed.\n",
      "\n",
      "--- Detailed Timing Metrics ---\n",
      "metadata_retrieval: 0.12s\n",
      "batch_query_1: 2.33s\n",
      "batch_processing_1: 28.74s\n",
      "vacuum: 0.00s\n",
      "PROCESSING SUCCESSFUL for 2025-03-train-00009-of-00069.parquet\n",
      "Registered file as processed.\n",
      "Deleted local file: 2025-03-train-00009-of-00069.parquet\n",
      "\n",
      "--- Timing Summary ---\n",
      "Download - Avg: 0.42s, Max: 0.50s, Min: 0.37s\n",
      "Process - Avg: 24.62s, Max: 31.73s, Min: 15.37s\n",
      "Register_delete - Avg: 0.04s, Max: 0.04s, Min: 0.03s\n",
      "Total elapsed time: 251.29s\n"
     ]
    }
   ],
   "source": [
    "import time\n",
    "import os\n",
    "from collections import defaultdict\n",
    "from statistics import mean\n",
    "# --- Timing Stats ---\n",
    "timing_stats = defaultdict(list)\n",
    "total_start_time = time.time()\n",
    "\n",
    "for i, file_to_download in enumerate(files_to_download):\n",
    "    print(f\"\\n--- Downloading [{i+1}/{len(files_to_download)}] ---\")\n",
    "    step_start_time = time.time()\n",
    "\n",
    "    # 1. Download the file\n",
    "    downloaded_file_path = download_single_parquet_file(\n",
    "        repo_id=\"Lichess/standard-chess-games\",\n",
    "        repo_type=\"dataset\",\n",
    "        file_to_download=file_to_download,\n",
    "        local_dir=local_dir,\n",
    "        year=year,\n",
    "        month=month,\n",
    "    )\n",
    "\n",
    "    timing_stats['download'].append(time.time() - step_start_time)\n",
    "    if not downloaded_file_path:\n",
    "        print(f\"DOWNLOAD FAILED for {file_to_download}. Skipping.\")\n",
    "        continue\n",
    "\n",
    "    print(f\"Successfully downloaded: {downloaded_file_path.name}\")\n",
    "\n",
    "    # Get metadata for the downloaded file\n",
    "    url = hf_hub_url(\n",
    "        repo_id=\"Lichess/standard-chess-games\",\n",
    "        repo_type=\"dataset\",\n",
    "        filename=file_to_download,\n",
    "    )\n",
    "    meta = get_hf_file_metadata(url=url)\n",
    "\n",
    "    # 2. Process the file\n",
    "    step_start_time = time.time()\n",
    "    file_config = base_config.replace(parquet_path=str(downloaded_file_path))\n",
    "    file_context = {\n",
    "        \"current_file_num\": i + 1,\n",
    "        \"total_files\": len(files_to_download),\n",
    "        \"total_start_time\": total_start_time,\n",
    "    }\n",
    "    is_processing_successful = process_parquet_file(\n",
    "        config=file_config,\n",
    "        file_context=file_context,\n",
    "    )\n",
    "    timing_stats['process'].append(time.time() - step_start_time)\n",
    "\n",
    "    # 3. Register and Delete on Success\n",
    "    step_start_time = time.time()\n",
    "    if is_processing_successful:\n",
    "        print(f\"PROCESSING SUCCESSFUL for {downloaded_file_path.name}\")\n",
    "        registry.mark_file_processed(\n",
    "            month=f\"{year}-{month}\",\n",
    "            filename=downloaded_file_path.name,\n",
    "            size=meta.size,\n",
    "            etag=meta.etag,\n",
    "        )\n",
    "        print(\"Registered file as processed.\")\n",
    "        os.remove(downloaded_file_path)\n",
    "        print(f\"Deleted local file: {downloaded_file_path.name}\")\n",
    "    else:\n",
    "        print(f\"PROCESSING FAILED for {downloaded_file_path.name}\")\n",
    "        registry.mark_file_processed(\n",
    "            month=f\"{year}-{month}\",\n",
    "            filename=downloaded_file_path.name,\n",
    "            size=meta.size,\n",
    "            etag=meta.etag,\n",
    "        )\n",
    "        print(\"Registered file as processed to avoid re-downloading.\")\n",
    "        os.remove(downloaded_file_path)\n",
    "        print(f\"Deleted local file: {downloaded_file_path.name}\")\n",
    "    timing_stats['register_delete'].append(time.time() - step_start_time)\n",
    "\n",
    "# --- Summary ---\n",
    "print(\"\\n--- Timing Summary ---\")\n",
    "for step, times in timing_stats.items():\n",
    "    print(f\"{step.capitalize()} - Avg: {mean(times):.2f}s, Max: {max(times):.2f}s, Min: {min(times):.2f}s\")\n",
    "total_elapsed_time = time.time() - total_start_time\n",
    "print(f\"Total elapsed time: {total_elapsed_time:.2f}s\")"
   ]
  }
 ],
 "metadata": {
  "kernelspec": {
   "display_name": ".venv",
   "language": "python",
   "name": "python3"
  },
  "language_info": {
   "codemirror_mode": {
    "name": "ipython",
    "version": 3
   },
   "file_extension": ".py",
   "mimetype": "text/x-python",
   "name": "python",
   "nbconvert_exporter": "python",
   "pygments_lexer": "ipython3",
   "version": "3.12.9"
  }
 },
 "nbformat": 4,
 "nbformat_minor": 5
}
