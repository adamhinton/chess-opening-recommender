{
 "cells": [
  {
   "cell_type": "markdown",
   "id": "3ecceed8",
   "metadata": {},
   "source": [
    "# Downloading Experiments\n",
    "\n",
    "This notebook is a proof of concept\n",
    "\n",
    "Right now, we have some flaws in our raw data download system. We want to make sure we get this right because we will be downloading and processing hundreds or thousands of GBs of raw data parquet files.\n",
    "\n",
    "So, we'll be messing around here with some implementations, and if they work, we'll be replacing parts of our original code with this."
   ]
  },
  {
   "cell_type": "code",
   "execution_count": 1,
   "id": "d5bdd03e",
   "metadata": {},
   "outputs": [
    {
     "name": "stdout",
     "output_type": "stream",
     "text": [
      "\n",
      "\u001b[1m[\u001b[0m\u001b[34;49mnotice\u001b[0m\u001b[1;39;49m]\u001b[0m\u001b[39;49m A new release of pip is available: \u001b[0m\u001b[31;49m24.3.1\u001b[0m\u001b[39;49m -> \u001b[0m\u001b[32;49m25.2\u001b[0m\n",
      "\u001b[1m[\u001b[0m\u001b[34;49mnotice\u001b[0m\u001b[1;39;49m]\u001b[0m\u001b[39;49m To update, run: \u001b[0m\u001b[32;49mpip install --upgrade pip\u001b[0m\n",
      "Note: you may need to restart the kernel to use updated packages.\n"
     ]
    }
   ],
   "source": [
    "%pip install huggingface_hub --quiet"
   ]
  },
  {
   "cell_type": "markdown",
   "id": "07dd6cc3",
   "metadata": {},
   "source": [
    "## Getting file names\n",
    "\n",
    "We want to use file names and other meta data to do dupe checks of what we've already processed, and see what we still need to download from a certain month. Let's run this code that gets all file names from the repo, to see what the data looks like."
   ]
  },
  {
   "cell_type": "code",
   "execution_count": 2,
   "id": "82d1ccb4",
   "metadata": {},
   "outputs": [
    {
     "name": "stdout",
     "output_type": "stream",
     "text": [
      "69 files found for 2025-3\n",
      "data/year=2025/month=03/train-00000-of-00069.parquet\n",
      "data/year=2025/month=03/train-00001-of-00069.parquet\n",
      "data/year=2025/month=03/train-00002-of-00069.parquet\n",
      "data/year=2025/month=03/train-00003-of-00069.parquet\n",
      "data/year=2025/month=03/train-00004-of-00069.parquet\n",
      "data/year=2025/month=03/train-00005-of-00069.parquet\n",
      "data/year=2025/month=03/train-00006-of-00069.parquet\n",
      "data/year=2025/month=03/train-00007-of-00069.parquet\n",
      "data/year=2025/month=03/train-00008-of-00069.parquet\n",
      "data/year=2025/month=03/train-00009-of-00069.parquet\n",
      "data/year=2025/month=03/train-00010-of-00069.parquet\n",
      "data/year=2025/month=03/train-00011-of-00069.parquet\n",
      "data/year=2025/month=03/train-00012-of-00069.parquet\n",
      "data/year=2025/month=03/train-00013-of-00069.parquet\n",
      "data/year=2025/month=03/train-00014-of-00069.parquet\n",
      "data/year=2025/month=03/train-00015-of-00069.parquet\n",
      "data/year=2025/month=03/train-00016-of-00069.parquet\n",
      "data/year=2025/month=03/train-00017-of-00069.parquet\n",
      "data/year=2025/month=03/train-00018-of-00069.parquet\n",
      "data/year=2025/month=03/train-00019-of-00069.parquet\n"
     ]
    }
   ],
   "source": [
    "# Here we get a list of raw data files for the given month/year\n",
    "\n",
    "# File names in the remote repo are structured like:\n",
    "# data/year=2025/month=03/train-00001-of-00065.parquet\n",
    "# Obviously, there will be different amounts of them so it won't always be -00065.parquet\n",
    "\n",
    "from huggingface_hub import HfApi\n",
    "from pathlib import Path\n",
    "\n",
    "year = 2025\n",
    "month = 3  # <-- type manually\n",
    "\n",
    "api = HfApi()\n",
    "files = api.list_repo_files(\n",
    "    repo_id=\"Lichess/standard-chess-games\",\n",
    "    repo_type=\"dataset\"\n",
    ")\n",
    "\n",
    "# Filter for that year/month\n",
    "target_prefix = f\"data/year={year}/month={month:02d}/\"\n",
    "all_file_names_in_month = [f for f in files if f.startswith(target_prefix)]\n",
    "\n",
    "print(len(all_file_names_in_month), f\"files found for {year}-{month}\")\n",
    "for f in all_file_names_in_month[:20]:  # preview first 20\n",
    "    print(f)"
   ]
  },
  {
   "cell_type": "markdown",
   "id": "47a3554f",
   "metadata": {},
   "source": [
    "## Dupe checks\n",
    "\n",
    "Now that we have the list of raw data file names for the given month and year, we'll perform our dupe checks. This parses through the list of file names to make sure we haven't already processed any of these files.\n",
    "\n",
    "Each file is a 1GB download, so it's obviously in our best interest not to download a file we've already processed."
   ]
  },
  {
   "cell_type": "code",
   "execution_count": 3,
   "id": "d358efb0",
   "metadata": {},
   "outputs": [
    {
     "name": "stdout",
     "output_type": "stream",
     "text": [
      "59 new files to download\n"
     ]
    }
   ],
   "source": [
    "# Parse the list of raw data file names to make sure we haven't already processed any of these files, and skip downloading any dupes\n",
    "\n",
    "from huggingface_hub import get_hf_file_metadata, hf_hub_url\n",
    "\n",
    "import sys\n",
    "\n",
    "# Current working directory (should be project root)\n",
    "project_root = Path.cwd()\n",
    "sys.path.insert(0, str(project_root))\n",
    "\n",
    "from utils.file_processing.raw_data_file_dupe_checks import FileRegistry  # noqa: E402\n",
    "\n",
    "# Init registry\n",
    "registry = FileRegistry()\n",
    "\n",
    "# Remove files already processed\n",
    "non_dupe_files = []\n",
    "month_str = f\"{year}-{month}\"\n",
    "for f in all_file_names_in_month:\n",
    "    url = hf_hub_url(\n",
    "        repo_id=\"Lichess/standard-chess-games\",\n",
    "        repo_type=\"dataset\",\n",
    "        filename=f,\n",
    "    )\n",
    "    meta = get_hf_file_metadata(url=url)\n",
    "    size = meta.size\n",
    "    etag = meta.etag\n",
    "\n",
    "    # This is the filename format that will be saved in the registry\n",
    "    expected_filename_in_registry = f\"{year}-{month:02d}-{Path(f).name}\"\n",
    "\n",
    "    if not registry.is_file_processed(\n",
    "        month_str, expected_filename_in_registry, size, etag\n",
    "    ):\n",
    "        non_dupe_files.append(f)\n",
    "\n",
    "print(len(non_dupe_files), \"new files to download\")"
   ]
  },
  {
   "cell_type": "markdown",
   "id": "405bbf91",
   "metadata": {},
   "source": [
    "## Config\n",
    "\n",
    "Now to configure how we want our downloading and processing pipeline to operate."
   ]
  },
  {
   "cell_type": "code",
   "execution_count": null,
   "id": "a040c3f4",
   "metadata": {},
   "outputs": [
    {
     "name": "stdout",
     "output_type": "stream",
     "text": [
      "Initializing database schema...\n",
      "Database tables are ready.\n",
      "Prepared to download and process 5 files.\n"
     ]
    }
   ],
   "source": [
    "# Config stuff\n",
    "import importlib\n",
    "from utils.database import db_utils\n",
    "importlib.reload(db_utils)\n",
    "\n",
    "from utils.downloading_raw_parquet_data.raw_parquet_data_file_downloader import (\n",
    "    download_single_parquet_file,\n",
    ")\n",
    "from utils.file_processing.process_parquet_file import (\n",
    "    process_parquet_file,\n",
    ")\n",
    "from utils.file_processing.types_and_classes import ProcessingConfig\n",
    "from utils.database.db_utils import get_db_connection, setup_database\n",
    "\n",
    "\n",
    "# --- Configuration ---\n",
    "year, month = 2025, 3\n",
    "max_files_to_download = 5  # For testing; set to None to process all new files\n",
    "local_dir = Path(\"../data/raw/better_downloading_experiments\")\n",
    "local_dir.mkdir(parents=True, exist_ok=True)\n",
    "\n",
    "# Define the path for the DuckDB database file.\n",
    "db_path = Path(\"../data/processed/chess_games.db\")\n",
    "db_path.parent.mkdir(parents=True, exist_ok=True)\n",
    "\n",
    "\n",
    "# Base config for processing. This will be used for each file.\n",
    "base_config = ProcessingConfig(\n",
    "    parquet_path=\"\",  # This will be set per-file\n",
    "    db_path=db_path,\n",
    "    batch_size=1_500_000,\n",
    "    min_player_rating=1200,\n",
    "    max_elo_difference_between_players=100,\n",
    "    allowed_time_controls={\"Blitz\", \"Rapid\", \"Classical\"},\n",
    ")\n",
    "\n",
    "# --- Database Initialization ---\n",
    "# Set up the database schema before starting any processing.\n",
    "# This is idempotent; it will only create tables if they don't exist.\n",
    "with get_db_connection(db_path) as con:\n",
    "    setup_database(con)\n",
    "\n",
    "\n",
    "# --- File Selection ---\n",
    "# Use the list of non-duplicate files from the previous cell\n",
    "files_to_download = non_dupe_files\n",
    "if max_files_to_download is not None:\n",
    "    files_to_download = non_dupe_files[:max_files_to_download]\n",
    "\n",
    "print(f\"Prepared to download and process {len(files_to_download)} files.\")"
   ]
  },
  {
   "cell_type": "markdown",
   "id": "7aa2fbd3",
   "metadata": {},
   "source": [
    "## Downloading, processing, deleting\n",
    "\n",
    "Now, we'lll download, process and delete our raw data files one by one.\n",
    "\n",
    "The workflow is:\n",
    "\n",
    "1. Download a file\n",
    "2. Process that file, extracting the game data we want\n",
    "3. Delete that file"
   ]
  },
  {
   "cell_type": "code",
   "execution_count": 5,
   "id": "8dcd4c66",
   "metadata": {},
   "outputs": [
    {
     "name": "stdout",
     "output_type": "stream",
     "text": [
      "\n",
      "--- Downloading [1/5] ---\n",
      "File saved to ../data/raw/better_downloading_experiments/2025-03-train-00010-of-00069.parquet\n",
      "Successfully downloaded: 2025-03-train-00010-of-00069.parquet\n",
      "Processing 1,410,774 rows in 2 batches of size 750,000\n",
      "\n",
      "--- Starting Batch 1/2 ---\n"
     ]
    },
    {
     "data": {
      "application/vnd.jupyter.widget-view+json": {
       "model_id": "17d797a1d44f4844b2df622bdd820dfb",
       "version_major": 2,
       "version_minor": 0
      },
      "text/plain": [
       "FloatProgress(value=0.0, layout=Layout(width='auto'), style=ProgressStyle(bar_color='black'))"
      ]
     },
     "metadata": {},
     "output_type": "display_data"
    },
    {
     "name": "stdout",
     "output_type": "stream",
     "text": [
      "    Processed 329,373 games.\n",
      "    Updated stats for 560,377 player-opening combinations.\n",
      "    Batch processed in 23.00s.\n",
      "    File ETA: 00:00:23\n",
      "\n",
      "--- Starting Batch 2/2 ---\n"
     ]
    },
    {
     "data": {
      "application/vnd.jupyter.widget-view+json": {
       "model_id": "ef5fa525888d41cfbc34d516e733e224",
       "version_major": 2,
       "version_minor": 0
      },
      "text/plain": [
       "FloatProgress(value=0.0, layout=Layout(width='auto'), style=ProgressStyle(bar_color='black'))"
      ]
     },
     "metadata": {},
     "output_type": "display_data"
    },
    {
     "name": "stdout",
     "output_type": "stream",
     "text": [
      "    Processed 288,458 games.\n",
      "    Updated stats for 487,175 player-opening combinations.\n",
      "    Batch processed in 20.12s.\n",
      "    File ETA: 00:00:00\n",
      "\n",
      "File Processing Summary:\n",
      "  total_games: 1410774\n",
      "  total_time_sec: 43.242247104644775\n",
      "  avg_batch_time_sec: 21.55897545814514\n",
      "  min_batch_time_sec: 20.116832971572876\n",
      "  max_batch_time_sec: 23.001117944717407\n",
      "  avg_batch_size: 705387.0\n",
      "  overall_rate_games_per_sec: 32624.9002875816\n",
      "  memory_usage: [{'percent': 42.3, 'used_gb': 13.537467956542969, 'available_gb': 18.457080841064453}, {'percent': 44.4, 'used_gb': 14.210601806640625, 'available_gb': 17.782936096191406}]\n",
      "  accepted_games: 617831\n",
      "  filtered_games: 792943\n",
      "  acceptance_rate_percent: 43.8\n",
      "Database connection closed.\n",
      "PROCESSING SUCCESSFUL for 2025-03-train-00010-of-00069.parquet\n",
      "Registered file as processed.\n",
      "Deleted local file: 2025-03-train-00010-of-00069.parquet\n",
      "\n",
      "--- Downloading [2/5] ---\n",
      "File saved to ../data/raw/better_downloading_experiments/2025-03-train-00011-of-00069.parquet\n",
      "Successfully downloaded: 2025-03-train-00011-of-00069.parquet\n",
      "Processing 1,411,094 rows in 2 batches of size 750,000\n",
      "\n",
      "--- Starting Batch 1/2 ---\n"
     ]
    },
    {
     "data": {
      "application/vnd.jupyter.widget-view+json": {
       "model_id": "f42559994d9547b1b0763df9176d2e8f",
       "version_major": 2,
       "version_minor": 0
      },
      "text/plain": [
       "FloatProgress(value=0.0, layout=Layout(width='auto'), style=ProgressStyle(bar_color='black'))"
      ]
     },
     "metadata": {},
     "output_type": "display_data"
    },
    {
     "name": "stdout",
     "output_type": "stream",
     "text": [
      "    Processed 325,849 games.\n",
      "    Updated stats for 534,565 player-opening combinations.\n",
      "    Batch processed in 22.07s.\n",
      "    File ETA: 00:00:22\n",
      "\n",
      "--- Starting Batch 2/2 ---\n"
     ]
    },
    {
     "data": {
      "application/vnd.jupyter.widget-view+json": {
       "model_id": "8ea2a35470a2417cb4b678c2ad04849f",
       "version_major": 2,
       "version_minor": 0
      },
      "text/plain": [
       "FloatProgress(value=0.0, layout=Layout(width='auto'), style=ProgressStyle(bar_color='black'))"
      ]
     },
     "metadata": {},
     "output_type": "display_data"
    },
    {
     "name": "stdout",
     "output_type": "stream",
     "text": [
      "    Processed 296,184 games.\n",
      "    Updated stats for 497,091 player-opening combinations.\n",
      "    Batch processed in 20.83s.\n",
      "    File ETA: 00:00:00\n",
      "\n",
      "File Processing Summary:\n",
      "  total_games: 1411094\n",
      "  total_time_sec: 43.01757001876831\n",
      "  avg_batch_time_sec: 21.451979875564575\n",
      "  min_batch_time_sec: 20.83442497253418\n",
      "  max_batch_time_sec: 22.06953477859497\n",
      "  avg_batch_size: 705547.0\n",
      "  overall_rate_games_per_sec: 32802.73616999631\n",
      "  memory_usage: [{'percent': 43.8, 'used_gb': 14.012443542480469, 'available_gb': 17.981353759765625}, {'percent': 45.3, 'used_gb': 14.501567840576172, 'available_gb': 17.492080688476562}]\n",
      "  accepted_games: 622033\n",
      "  filtered_games: 789061\n",
      "  acceptance_rate_percent: 44.1\n",
      "Database connection closed.\n",
      "PROCESSING SUCCESSFUL for 2025-03-train-00011-of-00069.parquet\n",
      "Registered file as processed.\n",
      "Deleted local file: 2025-03-train-00011-of-00069.parquet\n",
      "\n",
      "--- Downloading [3/5] ---\n",
      "File saved to ../data/raw/better_downloading_experiments/2025-03-train-00012-of-00069.parquet\n",
      "Successfully downloaded: 2025-03-train-00012-of-00069.parquet\n",
      "Processing 1,410,449 rows in 2 batches of size 750,000\n",
      "\n",
      "--- Starting Batch 1/2 ---\n"
     ]
    },
    {
     "data": {
      "application/vnd.jupyter.widget-view+json": {
       "model_id": "44d579fe17c7434a9e12dc6aa163435c",
       "version_major": 2,
       "version_minor": 0
      },
      "text/plain": [
       "FloatProgress(value=0.0, layout=Layout(width='auto'), style=ProgressStyle(bar_color='black'))"
      ]
     },
     "metadata": {},
     "output_type": "display_data"
    },
    {
     "name": "stdout",
     "output_type": "stream",
     "text": [
      "    Processed 331,783 games.\n",
      "    Updated stats for 563,234 player-opening combinations.\n",
      "    Batch processed in 23.27s.\n",
      "    File ETA: 00:00:23\n",
      "\n",
      "--- Starting Batch 2/2 ---\n"
     ]
    },
    {
     "data": {
      "application/vnd.jupyter.widget-view+json": {
       "model_id": "144714939e3b4183af890c5d5a3c7283",
       "version_major": 2,
       "version_minor": 0
      },
      "text/plain": [
       "FloatProgress(value=0.0, layout=Layout(width='auto'), style=ProgressStyle(bar_color='black'))"
      ]
     },
     "metadata": {},
     "output_type": "display_data"
    },
    {
     "name": "stdout",
     "output_type": "stream",
     "text": [
      "    Processed 288,620 games.\n",
      "    Updated stats for 492,857 player-opening combinations.\n",
      "    Batch processed in 21.67s.\n",
      "    File ETA: 00:00:00\n",
      "\n",
      "File Processing Summary:\n",
      "  total_games: 1410449\n",
      "  total_time_sec: 45.056041955947876\n",
      "  avg_batch_time_sec: 22.47289001941681\n",
      "  min_batch_time_sec: 21.671510934829712\n",
      "  max_batch_time_sec: 23.274269104003906\n",
      "  avg_batch_size: 705224.5\n",
      "  overall_rate_games_per_sec: 31304.325430516557\n",
      "  memory_usage: [{'percent': 44.4, 'used_gb': 14.18801498413086, 'available_gb': 17.805213928222656}, {'percent': 45.7, 'used_gb': 14.621959686279297, 'available_gb': 17.371875762939453}]\n",
      "  accepted_games: 620403\n",
      "  filtered_games: 790046\n",
      "  acceptance_rate_percent: 44.0\n",
      "Database connection closed.\n",
      "PROCESSING SUCCESSFUL for 2025-03-train-00012-of-00069.parquet\n",
      "Registered file as processed.\n",
      "Deleted local file: 2025-03-train-00012-of-00069.parquet\n",
      "\n",
      "--- Downloading [4/5] ---\n",
      "File saved to ../data/raw/better_downloading_experiments/2025-03-train-00013-of-00069.parquet\n",
      "Successfully downloaded: 2025-03-train-00013-of-00069.parquet\n",
      "Processing 1,410,934 rows in 2 batches of size 750,000\n",
      "\n",
      "--- Starting Batch 1/2 ---\n"
     ]
    },
    {
     "data": {
      "application/vnd.jupyter.widget-view+json": {
       "model_id": "c52bc8962c624d61a2d2f788dc3175fe",
       "version_major": 2,
       "version_minor": 0
      },
      "text/plain": [
       "FloatProgress(value=0.0, layout=Layout(width='auto'), style=ProgressStyle(bar_color='black'))"
      ]
     },
     "metadata": {},
     "output_type": "display_data"
    },
    {
     "name": "stdout",
     "output_type": "stream",
     "text": [
      "    Processed 327,278 games.\n",
      "    Updated stats for 535,906 player-opening combinations.\n",
      "    Batch processed in 22.12s.\n",
      "    File ETA: 00:00:22\n",
      "\n",
      "--- Starting Batch 2/2 ---\n"
     ]
    },
    {
     "data": {
      "application/vnd.jupyter.widget-view+json": {
       "model_id": "fda2fb5eb1054ca68fc4940122dfc7f0",
       "version_major": 2,
       "version_minor": 0
      },
      "text/plain": [
       "FloatProgress(value=0.0, layout=Layout(width='auto'), style=ProgressStyle(bar_color='black'))"
      ]
     },
     "metadata": {},
     "output_type": "display_data"
    },
    {
     "name": "stdout",
     "output_type": "stream",
     "text": [
      "    Processed 296,138 games.\n",
      "    Updated stats for 492,718 player-opening combinations.\n",
      "    Batch processed in 21.95s.\n",
      "    File ETA: 00:00:00\n",
      "\n",
      "File Processing Summary:\n",
      "  total_games: 1410934\n",
      "  total_time_sec: 44.190078258514404\n",
      "  avg_batch_time_sec: 22.035842418670654\n",
      "  min_batch_time_sec: 21.95232105255127\n",
      "  max_batch_time_sec: 22.11936378479004\n",
      "  avg_batch_size: 705467.0\n",
      "  overall_rate_games_per_sec: 31928.750878103405\n",
      "  memory_usage: [{'percent': 44.6, 'used_gb': 14.251426696777344, 'available_gb': 17.742511749267578}, {'percent': 46.2, 'used_gb': 14.772762298583984, 'available_gb': 17.221229553222656}]\n",
      "  accepted_games: 623416\n",
      "  filtered_games: 787518\n",
      "  acceptance_rate_percent: 44.2\n",
      "Database connection closed.\n",
      "PROCESSING SUCCESSFUL for 2025-03-train-00013-of-00069.parquet\n",
      "Registered file as processed.\n",
      "Deleted local file: 2025-03-train-00013-of-00069.parquet\n",
      "\n",
      "--- Downloading [5/5] ---\n",
      "File saved to ../data/raw/better_downloading_experiments/2025-03-train-00014-of-00069.parquet\n",
      "Successfully downloaded: 2025-03-train-00014-of-00069.parquet\n",
      "Processing 1,410,098 rows in 2 batches of size 750,000\n",
      "\n",
      "--- Starting Batch 1/2 ---\n"
     ]
    },
    {
     "data": {
      "application/vnd.jupyter.widget-view+json": {
       "model_id": "eac4f3152f394d2992abeb6f0ddb614e",
       "version_major": 2,
       "version_minor": 0
      },
      "text/plain": [
       "FloatProgress(value=0.0, layout=Layout(width='auto'), style=ProgressStyle(bar_color='black'))"
      ]
     },
     "metadata": {},
     "output_type": "display_data"
    },
    {
     "name": "stdout",
     "output_type": "stream",
     "text": [
      "    Processed 333,745 games.\n",
      "    Updated stats for 562,893 player-opening combinations.\n",
      "    Batch processed in 22.77s.\n",
      "    File ETA: 00:00:22\n",
      "\n",
      "--- Starting Batch 2/2 ---\n"
     ]
    },
    {
     "data": {
      "application/vnd.jupyter.widget-view+json": {
       "model_id": "0d493388adb840638e8f44b371c1f697",
       "version_major": 2,
       "version_minor": 0
      },
      "text/plain": [
       "FloatProgress(value=0.0, layout=Layout(width='auto'), style=ProgressStyle(bar_color='black'))"
      ]
     },
     "metadata": {},
     "output_type": "display_data"
    },
    {
     "name": "stdout",
     "output_type": "stream",
     "text": [
      "    Processed 287,493 games.\n",
      "    Updated stats for 491,942 player-opening combinations.\n",
      "    Batch processed in 21.90s.\n",
      "    File ETA: 00:00:00\n",
      "\n",
      "File Processing Summary:\n",
      "  total_games: 1410098\n",
      "  total_time_sec: 44.783365964889526\n",
      "  avg_batch_time_sec: 22.33340573310852\n",
      "  min_batch_time_sec: 21.900715112686157\n",
      "  max_batch_time_sec: 22.766096353530884\n",
      "  avg_batch_size: 705049.0\n",
      "  overall_rate_games_per_sec: 31487.092799266735\n",
      "  memory_usage: [{'percent': 44.5, 'used_gb': 14.228008270263672, 'available_gb': 17.766021728515625}, {'percent': 46.2, 'used_gb': 14.782886505126953, 'available_gb': 17.210800170898438}]\n",
      "  accepted_games: 621238\n",
      "  filtered_games: 788860\n",
      "  acceptance_rate_percent: 44.1\n",
      "Database connection closed.\n",
      "PROCESSING SUCCESSFUL for 2025-03-train-00014-of-00069.parquet\n",
      "Registered file as processed.\n",
      "Deleted local file: 2025-03-train-00014-of-00069.parquet\n"
     ]
    }
   ],
   "source": [
    "import time\n",
    "import os\n",
    "# --- Main Loop ---\n",
    "total_start_time = time.time()\n",
    "\n",
    "for i, file_to_download in enumerate(files_to_download):\n",
    "    print(f\"\\n--- Downloading [{i+1}/{len(files_to_download)}] ---\")\n",
    "\n",
    "    # 1. Download the file\n",
    "    downloaded_file_path = download_single_parquet_file(\n",
    "        repo_id=\"Lichess/standard-chess-games\",\n",
    "        repo_type=\"dataset\",\n",
    "        file_to_download=file_to_download,\n",
    "        local_dir=local_dir,\n",
    "        year=year,\n",
    "        month=month,\n",
    "    )\n",
    "\n",
    "    if not downloaded_file_path:\n",
    "        print(f\"DOWNLOAD FAILED for {file_to_download}. Skipping.\")\n",
    "        continue\n",
    "\n",
    "    print(f\"Successfully downloaded: {downloaded_file_path.name}\")\n",
    "\n",
    "    # Get metadata for the downloaded file\n",
    "    url = hf_hub_url(\n",
    "        repo_id=\"Lichess/standard-chess-games\",\n",
    "        repo_type=\"dataset\",\n",
    "        filename=file_to_download,\n",
    "    )\n",
    "    meta = get_hf_file_metadata(url=url)\n",
    "\n",
    "    # 2. Process the file\n",
    "    # Create a specific config for this file by updating the path.\n",
    "    file_config = base_config.replace(parquet_path=str(downloaded_file_path))\n",
    "\n",
    "    # The file_context dictionary provides logging/ETA info for the processing function.\n",
    "    file_context = {\n",
    "        \"current_file_num\": i + 1,\n",
    "        \"total_files\": len(files_to_download),\n",
    "        \"total_start_time\": total_start_time,\n",
    "    }\n",
    "\n",
    "    # The main processing call. All data is now written to the DuckDB file.\n",
    "    is_processing_successful = process_parquet_file(\n",
    "        config=file_config,\n",
    "        file_context=file_context,\n",
    "    )\n",
    "\n",
    "    # 3. Register and Delete on Success\n",
    "    if is_processing_successful:\n",
    "        print(f\"PROCESSING SUCCESSFUL for {downloaded_file_path.name}\")\n",
    "        # Register the file as processed so we don't re-download it.\n",
    "        registry.mark_file_processed(\n",
    "            month=f\"{year}-{month}\",\n",
    "            filename=downloaded_file_path.name,\n",
    "            size=meta.size,\n",
    "            etag=meta.etag,\n",
    "        )\n",
    "        print(\"Registered file as processed.\")\n",
    "        # Delete the local raw file to save space.\n",
    "        os.remove(downloaded_file_path)\n",
    "        print(f\"Deleted local file: {downloaded_file_path.name}\")\n",
    "    else:\n",
    "        print(f\"PROCESSING FAILED for {downloaded_file_path.name}\")\n",
    "        # As per the plan, we mark the file as processed even on failure\n",
    "        # to avoid getting stuck on a problematic file.\n",
    "        registry.mark_file_processed(\n",
    "            month=f\"{year}-{month}\",\n",
    "            filename=downloaded_file_path.name,\n",
    "            size=meta.size,\n",
    "            etag=meta.etag,\n",
    "        )\n",
    "        print(\"Registered file as processed to avoid re-downloading.\")\n",
    "        os.remove(downloaded_file_path)\n",
    "        print(f\"Deleted local file: {downloaded_file_path.name}\")\n"
   ]
  },
  {
   "cell_type": "markdown",
   "id": "eab8a219",
   "metadata": {},
   "source": []
  }
 ],
 "metadata": {
  "kernelspec": {
   "display_name": ".venv",
   "language": "python",
   "name": "python3"
  },
  "language_info": {
   "codemirror_mode": {
    "name": "ipython",
    "version": 3
   },
   "file_extension": ".py",
   "mimetype": "text/x-python",
   "name": "python",
   "nbconvert_exporter": "python",
   "pygments_lexer": "ipython3",
   "version": "3.12.9"
  }
 },
 "nbformat": 4,
 "nbformat_minor": 5
}
