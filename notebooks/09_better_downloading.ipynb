{
 "cells": [
  {
   "cell_type": "markdown",
   "id": "3ecceed8",
   "metadata": {},
   "source": [
    "# Downloading Experiments\n",
    "\n",
    "This notebook is a proof of concept\n",
    "\n",
    "Right now, we have some flaws in our raw data download system. We want to make sure we get this right because we will be downloading and processing hundreds or thousands of GBs of raw data parquet files.\n",
    "\n",
    "So, we'll be messing around here with some implementations, and if they work, we'll be replacing parts of our original code with this."
   ]
  },
  {
   "cell_type": "code",
   "execution_count": 1,
   "id": "d5bdd03e",
   "metadata": {},
   "outputs": [
    {
     "name": "stdout",
     "output_type": "stream",
     "text": [
      "\n",
      "\u001b[1m[\u001b[0m\u001b[34;49mnotice\u001b[0m\u001b[1;39;49m]\u001b[0m\u001b[39;49m A new release of pip is available: \u001b[0m\u001b[31;49m24.3.1\u001b[0m\u001b[39;49m -> \u001b[0m\u001b[32;49m25.2\u001b[0m\n",
      "\u001b[1m[\u001b[0m\u001b[34;49mnotice\u001b[0m\u001b[1;39;49m]\u001b[0m\u001b[39;49m To update, run: \u001b[0m\u001b[32;49mpip install --upgrade pip\u001b[0m\n",
      "Note: you may need to restart the kernel to use updated packages.\n"
     ]
    }
   ],
   "source": [
    "%pip install huggingface_hub --quiet"
   ]
  },
  {
   "cell_type": "markdown",
   "id": "07dd6cc3",
   "metadata": {},
   "source": [
    "## Getting file names\n",
    "\n",
    "We want to use file names and other meta data to do dupe checks of what we've already processed, and see what we still need to download from a certain month. Let's run this code that gets all file names from the repo, to see what the data looks like.\n",
    "\n",
    "TODO I wrote get_parquet_file_names for this; if we use this notebook again, convert this functionality to use that util."
   ]
  },
  {
   "cell_type": "code",
   "execution_count": null,
   "id": "b1b3029e",
   "metadata": {},
   "outputs": [],
   "source": []
  },
  {
   "cell_type": "code",
   "execution_count": null,
   "id": "e6352155",
   "metadata": {},
   "outputs": [],
   "source": []
  },
  {
   "cell_type": "code",
   "execution_count": 2,
   "id": "82d1ccb4",
   "metadata": {},
   "outputs": [
    {
     "name": "stdout",
     "output_type": "stream",
     "text": [
      "65 files found for 2025-4\n",
      "data/year=2025/month=04/train-00000-of-00065.parquet\n",
      "data/year=2025/month=04/train-00001-of-00065.parquet\n",
      "data/year=2025/month=04/train-00002-of-00065.parquet\n",
      "data/year=2025/month=04/train-00003-of-00065.parquet\n",
      "data/year=2025/month=04/train-00004-of-00065.parquet\n",
      "data/year=2025/month=04/train-00005-of-00065.parquet\n",
      "data/year=2025/month=04/train-00006-of-00065.parquet\n",
      "data/year=2025/month=04/train-00007-of-00065.parquet\n",
      "data/year=2025/month=04/train-00008-of-00065.parquet\n",
      "data/year=2025/month=04/train-00009-of-00065.parquet\n",
      "data/year=2025/month=04/train-00010-of-00065.parquet\n",
      "data/year=2025/month=04/train-00011-of-00065.parquet\n",
      "data/year=2025/month=04/train-00012-of-00065.parquet\n",
      "data/year=2025/month=04/train-00013-of-00065.parquet\n",
      "data/year=2025/month=04/train-00014-of-00065.parquet\n",
      "data/year=2025/month=04/train-00015-of-00065.parquet\n",
      "data/year=2025/month=04/train-00016-of-00065.parquet\n",
      "data/year=2025/month=04/train-00017-of-00065.parquet\n",
      "data/year=2025/month=04/train-00018-of-00065.parquet\n",
      "data/year=2025/month=04/train-00019-of-00065.parquet\n"
     ]
    }
   ],
   "source": [
    "# Here we get a list of raw data files for the given month/year\n",
    "\n",
    "# TODO I wrote get_parquet_file_names for this; if we use this notebook again, convert this functionality to use that util.\n",
    "\n",
    "# File names in the remote repo are structured like:\n",
    "# data/year=2025/month=03/train-00001-of-00065.parquet\n",
    "# Obviously, there will be different amounts of them so it won't always be -00065.parquet\n",
    "\n",
    "from huggingface_hub import HfApi\n",
    "from pathlib import Path\n",
    "\n",
    "year = 2025\n",
    "month = 4  # <-- type manually\n",
    "\n",
    "api = HfApi()\n",
    "files = api.list_repo_files(\n",
    "    repo_id=\"Lichess/standard-chess-games\",\n",
    "    repo_type=\"dataset\"\n",
    ")\n",
    "\n",
    "# Filter for that year/month\n",
    "target_prefix = f\"data/year={year}/month={month:02d}/\"\n",
    "all_file_names_in_month = [f for f in files if f.startswith(target_prefix)]\n",
    "\n",
    "print(len(all_file_names_in_month), f\"files found for {year}-{month}\")\n",
    "for f in all_file_names_in_month[:20]:  # preview first 20\n",
    "    print(f)"
   ]
  },
  {
   "cell_type": "markdown",
   "id": "47a3554f",
   "metadata": {},
   "source": [
    "## Dupe checks\n",
    "\n",
    "Now that we have the list of raw data file names for the given month and year, we'll perform our dupe checks. This parses through the list of file names to make sure we haven't already processed any of these files.\n",
    "\n",
    "Each file is a 1GB download, so it's obviously in our best interest not to download a file we've already processed."
   ]
  },
  {
   "cell_type": "code",
   "execution_count": 3,
   "id": "d358efb0",
   "metadata": {},
   "outputs": [
    {
     "name": "stdout",
     "output_type": "stream",
     "text": [
      "65 new files to download\n"
     ]
    }
   ],
   "source": [
    "# Parse the list of raw data file names to make sure we haven't already processed any of these files, and skip downloading any dupes\n",
    "\n",
    "from huggingface_hub import get_hf_file_metadata, hf_hub_url\n",
    "\n",
    "import sys\n",
    "\n",
    "# Current working directory (should be project root)\n",
    "project_root = Path.cwd()\n",
    "sys.path.insert(0, str(project_root))\n",
    "\n",
    "from utils.file_processing.raw_data_file_dupe_checks import FileRegistry  # noqa: E402\n",
    "\n",
    "# Init registry\n",
    "registry = FileRegistry()\n",
    "\n",
    "# Remove files already processed\n",
    "non_dupe_files = []\n",
    "month_str = f\"{year}-{month}\"\n",
    "for f in all_file_names_in_month:\n",
    "    url = hf_hub_url(\n",
    "        repo_id=\"Lichess/standard-chess-games\",\n",
    "        repo_type=\"dataset\",\n",
    "        filename=f,\n",
    "    )\n",
    "    meta = get_hf_file_metadata(url=url)\n",
    "    size = meta.size\n",
    "    etag = meta.etag\n",
    "\n",
    "    # This is the filename format that will be saved in the registry\n",
    "    expected_filename_in_registry = f\"{year}-{month:02d}-{Path(f).name}\"\n",
    "\n",
    "    if not registry.is_file_processed(\n",
    "        month_str, expected_filename_in_registry, size, etag\n",
    "    ):\n",
    "        non_dupe_files.append(f)\n",
    "\n",
    "print(len(non_dupe_files), \"new files to download\")"
   ]
  },
  {
   "cell_type": "markdown",
   "id": "405bbf91",
   "metadata": {},
   "source": [
    "## Config\n",
    "\n",
    "Now to configure how we want our downloading and processing pipeline to operate."
   ]
  },
  {
   "cell_type": "code",
   "execution_count": null,
   "id": "a040c3f4",
   "metadata": {},
   "outputs": [
    {
     "name": "stdout",
     "output_type": "stream",
     "text": [
      "Initializing database schema...\n",
      "Database tables and partitioned stats tables are ready.\n",
      "Retrieved 50,000 eligible players from the database.\n",
      "Prepared to download and process 10 files.\n"
     ]
    }
   ],
   "source": [
    "# Config stuff\n",
    "import importlib\n",
    "from utils.database import db_utils, player_game_counts_db_utils\n",
    "from utils.file_processing import process_game_batch\n",
    "importlib.reload(db_utils)\n",
    "importlib.reload(process_game_batch)\n",
    "importlib.reload(player_game_counts_db_utils)\n",
    "\n",
    "\n",
    "from utils.downloading_raw_parquet_data.raw_parquet_data_file_downloader import (\n",
    "    download_single_parquet_file,\n",
    ")\n",
    "from utils.file_processing.process_parquet_file import (\n",
    "    process_parquet_file,\n",
    ")\n",
    "from utils.file_processing.types_and_classes import ProcessingConfig\n",
    "from utils.database.db_utils import get_db_connection, setup_database\n",
    "from utils.database.player_game_counts_db_utils import get_eligible_player_usernames\n",
    "\n",
    "\n",
    "# --- Configuration ---\n",
    "year, month = 2025, 3\n",
    "max_files_to_download = 40  # For testing; set to None to process all new files\n",
    "local_dir = Path(\"../data/raw/better_downloading_experiments\")\n",
    "local_dir.mkdir(parents=True, exist_ok=True)\n",
    "\n",
    "# Define the path for the DuckDB database file.\n",
    "db_path = Path(\"../data/processed/chess_games.db\")\n",
    "db_path.parent.mkdir(parents=True, exist_ok=True)\n",
    "\n",
    "# Path to the database containing our list of eligible players.\n",
    "player_counts_db_path = Path(\n",
    "    \"../data/processed/find_most_active_players/player_game_counts.duckdb\"\n",
    ")\n",
    "\n",
    "\n",
    "# Base config for processing. This will be used for each file.\n",
    "base_config = ProcessingConfig(\n",
    "    parquet_path=\"\",  # This will be set per-file\n",
    "    db_path=db_path,\n",
    "    batch_size=1_500_000,\n",
    "    min_player_rating=1200,\n",
    "    max_elo_difference_between_players=100,\n",
    "    allowed_time_controls={\"Blitz\", \"Rapid\", \"Classical\"},\n",
    ")\n",
    "\n",
    "# --- Database Initialization ---\n",
    "# Set up the database schema before starting any processing.\n",
    "# This is idempotent; it will only create tables if they don't exist.\n",
    "with get_db_connection(db_path) as con:\n",
    "    setup_database(con)\n",
    "\n",
    "# --- Load Eligible Players ---\n",
    "# Load the set of usernames for players we want to include in our analysis.\n",
    "# Games will be filtered to only include those where at least one player is in this set.\n",
    "with get_db_connection(player_counts_db_path) as con:\n",
    "    eligible_players = get_eligible_player_usernames(con)\n",
    "\n",
    "\n",
    "# --- File Selection ---\n",
    "# Use the list of non-duplicate files from the previous cell\n",
    "files_to_download = non_dupe_files\n",
    "if max_files_to_download is not None:\n",
    "    files_to_download = non_dupe_files[:max_files_to_download]\n",
    "\n",
    "print(f\"Prepared to download and process {len(files_to_download)} files.\")"
   ]
  },
  {
   "cell_type": "markdown",
   "id": "7aa2fbd3",
   "metadata": {},
   "source": [
    "## Downloading, processing, deleting\n",
    "\n",
    "Now, we'lll download, process and delete our raw data files one by one.\n",
    "\n",
    "The workflow is:\n",
    "\n",
    "1. Download a file\n",
    "2. Process that file, extracting the game data we want\n",
    "3. Delete that file"
   ]
  },
  {
   "cell_type": "code",
   "execution_count": 5,
   "id": "8dcd4c66",
   "metadata": {},
   "outputs": [
    {
     "name": "stdout",
     "output_type": "stream",
     "text": [
      "\n",
      "--- Downloading [1/10] ---\n",
      "File saved to ../data/raw/better_downloading_experiments/2025-03-train-00000-of-00065.parquet\n",
      "Successfully downloaded: 2025-03-train-00000-of-00065.parquet\n",
      "Processing 1,409,443 rows in 1 batches of size 1,500,000\n",
      "\n",
      "--- Starting Batch 1/1 ---\n"
     ]
    },
    {
     "data": {
      "application/vnd.jupyter.widget-view+json": {
       "model_id": "07eb5096bb814cab83b1864521658794",
       "version_major": 2,
       "version_minor": 0
      },
      "text/plain": [
       "FloatProgress(value=0.0, layout=Layout(width='auto'), style=ProgressStyle(bar_color='black'))"
      ]
     },
     "metadata": {},
     "output_type": "display_data"
    },
    {
     "data": {
      "application/vnd.jupyter.widget-view+json": {
       "model_id": "40e375445abd465bb7c656d47bc452af",
       "version_major": 2,
       "version_minor": 0
      },
      "text/plain": [
       "FloatProgress(value=0.0, layout=Layout(width='auto'), style=ProgressStyle(bar_color='black'))"
      ]
     },
     "metadata": {},
     "output_type": "display_data"
    },
    {
     "data": {
      "application/vnd.jupyter.widget-view+json": {
       "model_id": "3e8cb93ae038467ea578c042dfd9752e",
       "version_major": 2,
       "version_minor": 0
      },
      "text/plain": [
       "FloatProgress(value=0.0, layout=Layout(width='auto'), style=ProgressStyle(bar_color='black'))"
      ]
     },
     "metadata": {},
     "output_type": "display_data"
    },
    {
     "data": {
      "application/vnd.jupyter.widget-view+json": {
       "model_id": "9a9482698e6944a698bf53bdd4bc3bf8",
       "version_major": 2,
       "version_minor": 0
      },
      "text/plain": [
       "FloatProgress(value=0.0, layout=Layout(width='auto'), style=ProgressStyle(bar_color='black'))"
      ]
     },
     "metadata": {},
     "output_type": "display_data"
    },
    {
     "name": "stdout",
     "output_type": "stream",
     "text": [
      "\n",
      "--- Partition Timing Metrics ---\n",
      "Partition A: 2.92s\n",
      "Partition B: 3.56s\n",
      "Partition C: 3.75s\n",
      "Partition D: 1.64s\n",
      "Partition E: 0.17s\n",
      "Partition other: 0.02s\n",
      "    Processed 268,417 games.\n",
      "    Updated stats for 253,814 player-opening combinations (partitioned by ECO letter).\n",
      "\n",
      "--- Batch Timing Metrics ---\n",
      "filter_valid_games: 0.32s\n",
      "extract_players_openings: 0.06s\n",
      "insert_entities: 0.12s\n",
      "aggregate_stats: 0.16s\n",
      "bulk_upsert: 12.05s\n",
      "    Batch processed in 16.03s.\n",
      "    File ETA: 00:00:00\n",
      "\n",
      "File Processing Summary:\n",
      "  total_games: 1409443\n",
      "  total_time_sec: 16.168694019317627\n",
      "  avg_batch_time_sec: 16.026267051696777\n",
      "  min_batch_time_sec: 16.026267051696777\n",
      "  max_batch_time_sec: 16.026267051696777\n",
      "  avg_batch_size: 1409443.0\n",
      "  overall_rate_games_per_sec: 87171.10969606209\n",
      "  memory_usage: [{'percent': 44.9, 'used_gb': 14.276870727539062, 'available_gb': 17.639514923095703}]\n",
      "  accepted_games: 268417\n",
      "  filtered_games: 1141026\n",
      "  acceptance_rate_percent: 19.0\n",
      "Running VACUUM on the database...\n",
      "VACUUM complete. Elapsed time: 0.00 seconds.\n",
      "VACUUM took 0.00 seconds for this file.\n",
      "Database connection closed.\n",
      "\n",
      "--- Detailed Timing Metrics ---\n",
      "metadata_retrieval: 0.14s\n",
      "batch_query_1: 3.28s\n",
      "batch_processing_1: 12.75s\n",
      "vacuum: 0.00s\n",
      "PROCESSING SUCCESSFUL for 2025-03-train-00000-of-00065.parquet\n",
      "Registered file as processed.\n",
      "Deleted local file: 2025-03-train-00000-of-00065.parquet\n",
      "\n",
      "--- Downloading [2/10] ---\n",
      "File saved to ../data/raw/better_downloading_experiments/2025-03-train-00001-of-00065.parquet\n",
      "Successfully downloaded: 2025-03-train-00001-of-00065.parquet\n",
      "Processing 1,409,012 rows in 1 batches of size 1,500,000\n",
      "\n",
      "--- Starting Batch 1/1 ---\n"
     ]
    },
    {
     "data": {
      "application/vnd.jupyter.widget-view+json": {
       "model_id": "e618513f3fda4cb18820af324b352dca",
       "version_major": 2,
       "version_minor": 0
      },
      "text/plain": [
       "FloatProgress(value=0.0, layout=Layout(width='auto'), style=ProgressStyle(bar_color='black'))"
      ]
     },
     "metadata": {},
     "output_type": "display_data"
    },
    {
     "data": {
      "application/vnd.jupyter.widget-view+json": {
       "model_id": "265048ef7a384190944a11816d7dce32",
       "version_major": 2,
       "version_minor": 0
      },
      "text/plain": [
       "FloatProgress(value=0.0, layout=Layout(width='auto'), style=ProgressStyle(bar_color='black'))"
      ]
     },
     "metadata": {},
     "output_type": "display_data"
    },
    {
     "data": {
      "application/vnd.jupyter.widget-view+json": {
       "model_id": "24474bca12944caaa2fb36fa53869fc1",
       "version_major": 2,
       "version_minor": 0
      },
      "text/plain": [
       "FloatProgress(value=0.0, layout=Layout(width='auto'), style=ProgressStyle(bar_color='black'))"
      ]
     },
     "metadata": {},
     "output_type": "display_data"
    },
    {
     "name": "stdout",
     "output_type": "stream",
     "text": [
      "\n",
      "--- Partition Timing Metrics ---\n",
      "Partition A: 2.57s\n",
      "Partition B: 3.14s\n",
      "Partition C: 3.61s\n",
      "Partition D: 1.50s\n",
      "Partition E: 0.18s\n",
      "Partition other: 0.02s\n",
      "    Processed 252,297 games.\n",
      "    Updated stats for 241,071 player-opening combinations (partitioned by ECO letter).\n",
      "\n",
      "--- Batch Timing Metrics ---\n",
      "filter_valid_games: 0.29s\n",
      "extract_players_openings: 0.04s\n",
      "insert_entities: 0.11s\n",
      "aggregate_stats: 0.15s\n",
      "bulk_upsert: 11.01s\n",
      "    Batch processed in 14.34s.\n",
      "    File ETA: 00:00:00\n",
      "\n",
      "File Processing Summary:\n",
      "  total_games: 1409012\n",
      "  total_time_sec: 14.462533235549927\n",
      "  avg_batch_time_sec: 14.339946985244751\n",
      "  min_batch_time_sec: 14.339946985244751\n",
      "  max_batch_time_sec: 14.339946985244751\n",
      "  avg_batch_size: 1409012.0\n",
      "  overall_rate_games_per_sec: 97424.9792240096\n",
      "  memory_usage: [{'percent': 43.6, 'used_gb': 13.867965698242188, 'available_gb': 18.03232192993164}]\n",
      "  accepted_games: 252297\n",
      "  filtered_games: 1156715\n",
      "  acceptance_rate_percent: 17.9\n",
      "Running VACUUM on the database...\n",
      "VACUUM complete. Elapsed time: 0.00 seconds.\n",
      "VACUUM took 0.00 seconds for this file.\n",
      "Database connection closed.\n",
      "\n",
      "--- Detailed Timing Metrics ---\n",
      "metadata_retrieval: 0.12s\n",
      "batch_query_1: 2.69s\n",
      "batch_processing_1: 11.65s\n",
      "vacuum: 0.00s\n",
      "PROCESSING SUCCESSFUL for 2025-03-train-00001-of-00065.parquet\n",
      "Registered file as processed.\n",
      "Deleted local file: 2025-03-train-00001-of-00065.parquet\n",
      "\n",
      "--- Downloading [3/10] ---\n",
      "File saved to ../data/raw/better_downloading_experiments/2025-03-train-00002-of-00065.parquet\n",
      "Successfully downloaded: 2025-03-train-00002-of-00065.parquet\n",
      "Processing 1,409,562 rows in 1 batches of size 1,500,000\n",
      "\n",
      "--- Starting Batch 1/1 ---\n"
     ]
    },
    {
     "data": {
      "application/vnd.jupyter.widget-view+json": {
       "model_id": "94b8fe4df7a14c42a8f24b16459a550d",
       "version_major": 2,
       "version_minor": 0
      },
      "text/plain": [
       "FloatProgress(value=0.0, layout=Layout(width='auto'), style=ProgressStyle(bar_color='black'))"
      ]
     },
     "metadata": {},
     "output_type": "display_data"
    },
    {
     "data": {
      "application/vnd.jupyter.widget-view+json": {
       "model_id": "6bda1decd14644a3946236310805a4bc",
       "version_major": 2,
       "version_minor": 0
      },
      "text/plain": [
       "FloatProgress(value=0.0, layout=Layout(width='auto'), style=ProgressStyle(bar_color='black'))"
      ]
     },
     "metadata": {},
     "output_type": "display_data"
    },
    {
     "data": {
      "application/vnd.jupyter.widget-view+json": {
       "model_id": "b75fd2b274574449845efab7171b520f",
       "version_major": 2,
       "version_minor": 0
      },
      "text/plain": [
       "FloatProgress(value=0.0, layout=Layout(width='auto'), style=ProgressStyle(bar_color='black'))"
      ]
     },
     "metadata": {},
     "output_type": "display_data"
    },
    {
     "data": {
      "application/vnd.jupyter.widget-view+json": {
       "model_id": "7ecbb947ad9046389a5f3648237ed48c",
       "version_major": 2,
       "version_minor": 0
      },
      "text/plain": [
       "FloatProgress(value=0.0, layout=Layout(width='auto'), style=ProgressStyle(bar_color='black'))"
      ]
     },
     "metadata": {},
     "output_type": "display_data"
    },
    {
     "name": "stdout",
     "output_type": "stream",
     "text": [
      "\n",
      "--- Partition Timing Metrics ---\n",
      "Partition A: 2.57s\n",
      "Partition B: 3.53s\n",
      "Partition C: 3.59s\n",
      "Partition D: 1.45s\n",
      "Partition E: 0.14s\n",
      "Partition other: 0.02s\n",
      "    Processed 264,109 games.\n",
      "    Updated stats for 249,461 player-opening combinations (partitioned by ECO letter).\n",
      "\n",
      "--- Batch Timing Metrics ---\n",
      "filter_valid_games: 0.29s\n",
      "extract_players_openings: 0.04s\n",
      "insert_entities: 0.10s\n",
      "aggregate_stats: 0.15s\n",
      "bulk_upsert: 11.30s\n",
      "    Batch processed in 15.11s.\n",
      "    File ETA: 00:00:00\n",
      "\n",
      "File Processing Summary:\n",
      "  total_games: 1409562\n",
      "  total_time_sec: 15.235915899276733\n",
      "  avg_batch_time_sec: 15.108738899230957\n",
      "  min_batch_time_sec: 15.108738899230957\n",
      "  max_batch_time_sec: 15.108738899230957\n",
      "  avg_batch_size: 1409562.0\n",
      "  overall_rate_games_per_sec: 92515.73776847335\n",
      "  memory_usage: [{'percent': 44.3, 'used_gb': 14.077781677246094, 'available_gb': 17.822982788085938}]\n",
      "  accepted_games: 264109\n",
      "  filtered_games: 1145453\n",
      "  acceptance_rate_percent: 18.7\n",
      "Running VACUUM on the database...\n",
      "VACUUM complete. Elapsed time: 0.00 seconds.\n",
      "VACUUM took 0.00 seconds for this file.\n",
      "Database connection closed.\n",
      "\n",
      "--- Detailed Timing Metrics ---\n",
      "metadata_retrieval: 0.13s\n",
      "batch_query_1: 3.19s\n",
      "batch_processing_1: 11.92s\n",
      "vacuum: 0.00s\n",
      "PROCESSING SUCCESSFUL for 2025-03-train-00002-of-00065.parquet\n",
      "Registered file as processed.\n",
      "Deleted local file: 2025-03-train-00002-of-00065.parquet\n",
      "\n",
      "--- Downloading [4/10] ---\n",
      "File saved to ../data/raw/better_downloading_experiments/2025-03-train-00003-of-00065.parquet\n",
      "Successfully downloaded: 2025-03-train-00003-of-00065.parquet\n",
      "Processing 1,409,030 rows in 1 batches of size 1,500,000\n",
      "\n",
      "--- Starting Batch 1/1 ---\n"
     ]
    },
    {
     "data": {
      "application/vnd.jupyter.widget-view+json": {
       "model_id": "b2709f035baf4e2c8d9c060ea544bf02",
       "version_major": 2,
       "version_minor": 0
      },
      "text/plain": [
       "FloatProgress(value=0.0, layout=Layout(width='auto'), style=ProgressStyle(bar_color='black'))"
      ]
     },
     "metadata": {},
     "output_type": "display_data"
    },
    {
     "data": {
      "application/vnd.jupyter.widget-view+json": {
       "model_id": "4f3d0374960240c3a737ca7b4c5a7bdf",
       "version_major": 2,
       "version_minor": 0
      },
      "text/plain": [
       "FloatProgress(value=0.0, layout=Layout(width='auto'), style=ProgressStyle(bar_color='black'))"
      ]
     },
     "metadata": {},
     "output_type": "display_data"
    },
    {
     "data": {
      "application/vnd.jupyter.widget-view+json": {
       "model_id": "8d716b5ed2bd4f45b226e19385611f59",
       "version_major": 2,
       "version_minor": 0
      },
      "text/plain": [
       "FloatProgress(value=0.0, layout=Layout(width='auto'), style=ProgressStyle(bar_color='black'))"
      ]
     },
     "metadata": {},
     "output_type": "display_data"
    },
    {
     "data": {
      "application/vnd.jupyter.widget-view+json": {
       "model_id": "7852bb6f9f55400b8bab1042ff924a91",
       "version_major": 2,
       "version_minor": 0
      },
      "text/plain": [
       "FloatProgress(value=0.0, layout=Layout(width='auto'), style=ProgressStyle(bar_color='black'))"
      ]
     },
     "metadata": {},
     "output_type": "display_data"
    },
    {
     "name": "stdout",
     "output_type": "stream",
     "text": [
      "\n",
      "--- Partition Timing Metrics ---\n",
      "Partition A: 2.65s\n",
      "Partition B: 3.25s\n",
      "Partition C: 3.57s\n",
      "Partition D: 1.47s\n",
      "Partition E: 0.17s\n",
      "Partition other: 0.02s\n",
      "    Processed 252,300 games.\n",
      "    Updated stats for 241,333 player-opening combinations (partitioned by ECO letter).\n",
      "\n",
      "--- Batch Timing Metrics ---\n",
      "filter_valid_games: 0.31s\n",
      "extract_players_openings: 0.05s\n",
      "insert_entities: 0.12s\n",
      "aggregate_stats: 0.16s\n",
      "bulk_upsert: 11.13s\n",
      "    Batch processed in 14.89s.\n",
      "    File ETA: 00:00:00\n",
      "\n",
      "File Processing Summary:\n",
      "  total_games: 1409030\n",
      "  total_time_sec: 15.034995794296265\n",
      "  avg_batch_time_sec: 14.891157865524292\n",
      "  min_batch_time_sec: 14.891157865524292\n",
      "  max_batch_time_sec: 14.891157865524292\n",
      "  avg_batch_size: 1409030.0\n",
      "  overall_rate_games_per_sec: 93716.68733918338\n",
      "  memory_usage: [{'percent': 44.5, 'used_gb': 14.137603759765625, 'available_gb': 17.76314926147461}]\n",
      "  accepted_games: 252300\n",
      "  filtered_games: 1156730\n",
      "  acceptance_rate_percent: 17.9\n",
      "Running VACUUM on the database...\n",
      "VACUUM complete. Elapsed time: 0.00 seconds.\n",
      "VACUUM took 0.00 seconds for this file.\n",
      "Database connection closed.\n",
      "\n",
      "--- Detailed Timing Metrics ---\n",
      "metadata_retrieval: 0.14s\n",
      "batch_query_1: 3.08s\n",
      "batch_processing_1: 11.81s\n",
      "vacuum: 0.00s\n",
      "PROCESSING SUCCESSFUL for 2025-03-train-00003-of-00065.parquet\n",
      "Registered file as processed.\n",
      "Deleted local file: 2025-03-train-00003-of-00065.parquet\n",
      "\n",
      "--- Downloading [5/10] ---\n",
      "File saved to ../data/raw/better_downloading_experiments/2025-03-train-00004-of-00065.parquet\n",
      "Successfully downloaded: 2025-03-train-00004-of-00065.parquet\n",
      "Processing 1,409,641 rows in 1 batches of size 1,500,000\n",
      "\n",
      "--- Starting Batch 1/1 ---\n"
     ]
    },
    {
     "data": {
      "application/vnd.jupyter.widget-view+json": {
       "model_id": "08e8c269300441b2afb3e615bcd47409",
       "version_major": 2,
       "version_minor": 0
      },
      "text/plain": [
       "FloatProgress(value=0.0, layout=Layout(width='auto'), style=ProgressStyle(bar_color='black'))"
      ]
     },
     "metadata": {},
     "output_type": "display_data"
    },
    {
     "data": {
      "application/vnd.jupyter.widget-view+json": {
       "model_id": "8818ceba611c49438afa4052e995a310",
       "version_major": 2,
       "version_minor": 0
      },
      "text/plain": [
       "FloatProgress(value=0.0, layout=Layout(width='auto'), style=ProgressStyle(bar_color='black'))"
      ]
     },
     "metadata": {},
     "output_type": "display_data"
    },
    {
     "data": {
      "application/vnd.jupyter.widget-view+json": {
       "model_id": "0b5df85d025247ba893d656db3b88c03",
       "version_major": 2,
       "version_minor": 0
      },
      "text/plain": [
       "FloatProgress(value=0.0, layout=Layout(width='auto'), style=ProgressStyle(bar_color='black'))"
      ]
     },
     "metadata": {},
     "output_type": "display_data"
    },
    {
     "name": "stdout",
     "output_type": "stream",
     "text": [
      "\n",
      "--- Partition Timing Metrics ---\n",
      "Partition A: 2.66s\n",
      "Partition B: 3.62s\n",
      "Partition C: 3.52s\n",
      "Partition D: 1.48s\n",
      "Partition E: 0.16s\n",
      "Partition other: 0.02s\n",
      "    Processed 253,381 games.\n",
      "    Updated stats for 239,358 player-opening combinations (partitioned by ECO letter).\n",
      "\n",
      "--- Batch Timing Metrics ---\n",
      "filter_valid_games: 0.29s\n",
      "extract_players_openings: 0.04s\n",
      "insert_entities: 0.11s\n",
      "aggregate_stats: 0.24s\n",
      "bulk_upsert: 11.47s\n",
      "    Batch processed in 15.10s.\n",
      "    File ETA: 00:00:00\n",
      "\n",
      "File Processing Summary:\n",
      "  total_games: 1409641\n",
      "  total_time_sec: 15.242969036102295\n",
      "  avg_batch_time_sec: 15.104774951934814\n",
      "  min_batch_time_sec: 15.104774951934814\n",
      "  max_batch_time_sec: 15.104774951934814\n",
      "  avg_batch_size: 1409641.0\n",
      "  overall_rate_games_per_sec: 92478.11214871118\n",
      "  memory_usage: [{'percent': 46.3, 'used_gb': 14.702259063720703, 'available_gb': 17.18930435180664}]\n",
      "  accepted_games: 253381\n",
      "  filtered_games: 1156260\n",
      "  acceptance_rate_percent: 18.0\n",
      "Running VACUUM on the database...\n",
      "VACUUM complete. Elapsed time: 0.00 seconds.\n",
      "VACUUM took 0.00 seconds for this file.\n",
      "Database connection closed.\n",
      "\n",
      "--- Detailed Timing Metrics ---\n",
      "metadata_retrieval: 0.14s\n",
      "batch_query_1: 2.91s\n",
      "batch_processing_1: 12.20s\n",
      "vacuum: 0.00s\n",
      "PROCESSING SUCCESSFUL for 2025-03-train-00004-of-00065.parquet\n",
      "Registered file as processed.\n",
      "Deleted local file: 2025-03-train-00004-of-00065.parquet\n",
      "\n",
      "--- Downloading [6/10] ---\n",
      "File saved to ../data/raw/better_downloading_experiments/2025-03-train-00005-of-00065.parquet\n",
      "Successfully downloaded: 2025-03-train-00005-of-00065.parquet\n",
      "Processing 1,408,925 rows in 1 batches of size 1,500,000\n",
      "\n",
      "--- Starting Batch 1/1 ---\n"
     ]
    },
    {
     "data": {
      "application/vnd.jupyter.widget-view+json": {
       "model_id": "70b9d339ad384ec8b49d6f72c0992389",
       "version_major": 2,
       "version_minor": 0
      },
      "text/plain": [
       "FloatProgress(value=0.0, layout=Layout(width='auto'), style=ProgressStyle(bar_color='black'))"
      ]
     },
     "metadata": {},
     "output_type": "display_data"
    },
    {
     "data": {
      "application/vnd.jupyter.widget-view+json": {
       "model_id": "260a84957b0347d59726d554c3437da6",
       "version_major": 2,
       "version_minor": 0
      },
      "text/plain": [
       "FloatProgress(value=0.0, layout=Layout(width='auto'), style=ProgressStyle(bar_color='black'))"
      ]
     },
     "metadata": {},
     "output_type": "display_data"
    },
    {
     "data": {
      "application/vnd.jupyter.widget-view+json": {
       "model_id": "fa4716371a404d9d9395de14c5a2e77f",
       "version_major": 2,
       "version_minor": 0
      },
      "text/plain": [
       "FloatProgress(value=0.0, layout=Layout(width='auto'), style=ProgressStyle(bar_color='black'))"
      ]
     },
     "metadata": {},
     "output_type": "display_data"
    },
    {
     "name": "stdout",
     "output_type": "stream",
     "text": [
      "\n",
      "--- Partition Timing Metrics ---\n",
      "Partition A: 2.57s\n",
      "Partition B: 3.15s\n",
      "Partition C: 3.42s\n",
      "Partition D: 1.43s\n",
      "Partition E: 0.15s\n",
      "Partition other: 0.02s\n",
      "    Processed 246,038 games.\n",
      "    Updated stats for 234,730 player-opening combinations (partitioned by ECO letter).\n",
      "\n",
      "--- Batch Timing Metrics ---\n",
      "filter_valid_games: 0.29s\n",
      "extract_players_openings: 0.05s\n",
      "insert_entities: 0.11s\n",
      "aggregate_stats: 0.14s\n",
      "bulk_upsert: 10.73s\n",
      "    Batch processed in 14.28s.\n",
      "    File ETA: 00:00:00\n",
      "\n",
      "File Processing Summary:\n",
      "  total_games: 1408925\n",
      "  total_time_sec: 14.41655707359314\n",
      "  avg_batch_time_sec: 14.280955791473389\n",
      "  min_batch_time_sec: 14.280955791473389\n",
      "  max_batch_time_sec: 14.280955791473389\n",
      "  avg_batch_size: 1408925.0\n",
      "  overall_rate_games_per_sec: 97729.64465841383\n",
      "  memory_usage: [{'percent': 46.8, 'used_gb': 14.8580322265625, 'available_gb': 17.024864196777344}]\n",
      "  accepted_games: 246038\n",
      "  filtered_games: 1162887\n",
      "  acceptance_rate_percent: 17.5\n",
      "Running VACUUM on the database...\n",
      "VACUUM complete. Elapsed time: 0.00 seconds.\n",
      "VACUUM took 0.00 seconds for this file.\n",
      "Database connection closed.\n",
      "\n",
      "--- Detailed Timing Metrics ---\n",
      "metadata_retrieval: 0.14s\n",
      "batch_query_1: 2.91s\n",
      "batch_processing_1: 11.37s\n",
      "vacuum: 0.00s\n",
      "PROCESSING SUCCESSFUL for 2025-03-train-00005-of-00065.parquet\n",
      "Registered file as processed.\n",
      "Deleted local file: 2025-03-train-00005-of-00065.parquet\n",
      "\n",
      "--- Downloading [7/10] ---\n",
      "File saved to ../data/raw/better_downloading_experiments/2025-03-train-00006-of-00065.parquet\n",
      "Successfully downloaded: 2025-03-train-00006-of-00065.parquet\n",
      "Processing 1,409,351 rows in 1 batches of size 1,500,000\n",
      "\n",
      "--- Starting Batch 1/1 ---\n"
     ]
    },
    {
     "data": {
      "application/vnd.jupyter.widget-view+json": {
       "model_id": "0d2d6209bd1f4185afabb90e8af6dd08",
       "version_major": 2,
       "version_minor": 0
      },
      "text/plain": [
       "FloatProgress(value=0.0, layout=Layout(width='auto'), style=ProgressStyle(bar_color='black'))"
      ]
     },
     "metadata": {},
     "output_type": "display_data"
    },
    {
     "data": {
      "application/vnd.jupyter.widget-view+json": {
       "model_id": "5d27ecd1c5ec46da9bd5c543dc63cd49",
       "version_major": 2,
       "version_minor": 0
      },
      "text/plain": [
       "FloatProgress(value=0.0, layout=Layout(width='auto'), style=ProgressStyle(bar_color='black'))"
      ]
     },
     "metadata": {},
     "output_type": "display_data"
    },
    {
     "data": {
      "application/vnd.jupyter.widget-view+json": {
       "model_id": "d9c64be2715e4793815ece6836e18a63",
       "version_major": 2,
       "version_minor": 0
      },
      "text/plain": [
       "FloatProgress(value=0.0, layout=Layout(width='auto'), style=ProgressStyle(bar_color='black'))"
      ]
     },
     "metadata": {},
     "output_type": "display_data"
    },
    {
     "name": "stdout",
     "output_type": "stream",
     "text": [
      "\n",
      "--- Partition Timing Metrics ---\n",
      "Partition A: 2.59s\n",
      "Partition B: 3.09s\n",
      "Partition C: 3.21s\n",
      "Partition D: 1.47s\n",
      "Partition E: 0.16s\n",
      "Partition other: 0.02s\n",
      "    Processed 246,497 games.\n",
      "    Updated stats for 232,263 player-opening combinations (partitioned by ECO letter).\n",
      "\n",
      "--- Batch Timing Metrics ---\n",
      "filter_valid_games: 0.28s\n",
      "extract_players_openings: 0.05s\n",
      "insert_entities: 0.11s\n",
      "aggregate_stats: 0.15s\n",
      "bulk_upsert: 10.54s\n",
      "    Batch processed in 14.06s.\n",
      "    File ETA: 00:00:00\n",
      "\n",
      "File Processing Summary:\n",
      "  total_games: 1409351\n",
      "  total_time_sec: 14.178462028503418\n",
      "  avg_batch_time_sec: 14.056272268295288\n",
      "  min_batch_time_sec: 14.056272268295288\n",
      "  max_batch_time_sec: 14.056272268295288\n",
      "  avg_batch_size: 1409351.0\n",
      "  overall_rate_games_per_sec: 99400.8374932864\n",
      "  memory_usage: [{'percent': 46.7, 'used_gb': 14.831741333007812, 'available_gb': 17.051433563232422}]\n",
      "  accepted_games: 246497\n",
      "  filtered_games: 1162854\n",
      "  acceptance_rate_percent: 17.5\n",
      "Running VACUUM on the database...\n",
      "VACUUM complete. Elapsed time: 0.00 seconds.\n",
      "VACUUM took 0.00 seconds for this file.\n",
      "Database connection closed.\n",
      "\n",
      "--- Detailed Timing Metrics ---\n",
      "metadata_retrieval: 0.12s\n",
      "batch_query_1: 2.89s\n",
      "batch_processing_1: 11.17s\n",
      "vacuum: 0.00s\n",
      "PROCESSING SUCCESSFUL for 2025-03-train-00006-of-00065.parquet\n",
      "Registered file as processed.\n",
      "Deleted local file: 2025-03-train-00006-of-00065.parquet\n",
      "\n",
      "--- Downloading [8/10] ---\n",
      "File saved to ../data/raw/better_downloading_experiments/2025-03-train-00007-of-00065.parquet\n",
      "Successfully downloaded: 2025-03-train-00007-of-00065.parquet\n",
      "Processing 1,408,968 rows in 1 batches of size 1,500,000\n",
      "\n",
      "--- Starting Batch 1/1 ---\n"
     ]
    },
    {
     "data": {
      "application/vnd.jupyter.widget-view+json": {
       "model_id": "8631770f226841cdabc689d4883272dd",
       "version_major": 2,
       "version_minor": 0
      },
      "text/plain": [
       "FloatProgress(value=0.0, layout=Layout(width='auto'), style=ProgressStyle(bar_color='black'))"
      ]
     },
     "metadata": {},
     "output_type": "display_data"
    },
    {
     "data": {
      "application/vnd.jupyter.widget-view+json": {
       "model_id": "e98965ca6d2c4c28936c6244b529520a",
       "version_major": 2,
       "version_minor": 0
      },
      "text/plain": [
       "FloatProgress(value=0.0, layout=Layout(width='auto'), style=ProgressStyle(bar_color='black'))"
      ]
     },
     "metadata": {},
     "output_type": "display_data"
    },
    {
     "data": {
      "application/vnd.jupyter.widget-view+json": {
       "model_id": "7d47d84ad4064790b5e945bec0153c88",
       "version_major": 2,
       "version_minor": 0
      },
      "text/plain": [
       "FloatProgress(value=0.0, layout=Layout(width='auto'), style=ProgressStyle(bar_color='black'))"
      ]
     },
     "metadata": {},
     "output_type": "display_data"
    },
    {
     "data": {
      "application/vnd.jupyter.widget-view+json": {
       "model_id": "2b07653c089d4847b2ad7b4694f89a06",
       "version_major": 2,
       "version_minor": 0
      },
      "text/plain": [
       "FloatProgress(value=0.0, layout=Layout(width='auto'), style=ProgressStyle(bar_color='black'))"
      ]
     },
     "metadata": {},
     "output_type": "display_data"
    },
    {
     "name": "stdout",
     "output_type": "stream",
     "text": [
      "\n",
      "--- Partition Timing Metrics ---\n",
      "Partition A: 2.58s\n",
      "Partition B: 3.19s\n",
      "Partition C: 3.45s\n",
      "Partition D: 1.32s\n",
      "Partition E: 0.15s\n",
      "Partition other: 0.02s\n",
      "    Processed 250,074 games.\n",
      "    Updated stats for 237,272 player-opening combinations (partitioned by ECO letter).\n",
      "\n",
      "--- Batch Timing Metrics ---\n",
      "filter_valid_games: 0.28s\n",
      "extract_players_openings: 0.05s\n",
      "insert_entities: 0.11s\n",
      "aggregate_stats: 0.15s\n",
      "bulk_upsert: 10.71s\n",
      "    Batch processed in 14.30s.\n",
      "    File ETA: 00:00:00\n",
      "\n",
      "File Processing Summary:\n",
      "  total_games: 1408968\n",
      "  total_time_sec: 14.420851945877075\n",
      "  avg_batch_time_sec: 14.299410820007324\n",
      "  min_batch_time_sec: 14.299410820007324\n",
      "  max_batch_time_sec: 14.299410820007324\n",
      "  avg_batch_size: 1408968.0\n",
      "  overall_rate_games_per_sec: 97703.52024193858\n",
      "  memory_usage: [{'percent': 46.7, 'used_gb': 14.819355010986328, 'available_gb': 17.06417465209961}]\n",
      "  accepted_games: 250074\n",
      "  filtered_games: 1158894\n",
      "  acceptance_rate_percent: 17.7\n",
      "Running VACUUM on the database...\n",
      "VACUUM complete. Elapsed time: 0.00 seconds.\n",
      "VACUUM took 0.00 seconds for this file.\n",
      "Database connection closed.\n",
      "\n",
      "--- Detailed Timing Metrics ---\n",
      "metadata_retrieval: 0.12s\n",
      "batch_query_1: 2.97s\n",
      "batch_processing_1: 11.33s\n",
      "vacuum: 0.00s\n",
      "PROCESSING SUCCESSFUL for 2025-03-train-00007-of-00065.parquet\n",
      "Registered file as processed.\n",
      "Deleted local file: 2025-03-train-00007-of-00065.parquet\n",
      "\n",
      "--- Downloading [9/10] ---\n",
      "File saved to ../data/raw/better_downloading_experiments/2025-03-train-00008-of-00065.parquet\n",
      "Successfully downloaded: 2025-03-train-00008-of-00065.parquet\n",
      "Processing 1,408,988 rows in 1 batches of size 1,500,000\n",
      "\n",
      "--- Starting Batch 1/1 ---\n"
     ]
    },
    {
     "data": {
      "application/vnd.jupyter.widget-view+json": {
       "model_id": "a5bdc980095f4e9f974d42a6dc51af0a",
       "version_major": 2,
       "version_minor": 0
      },
      "text/plain": [
       "FloatProgress(value=0.0, layout=Layout(width='auto'), style=ProgressStyle(bar_color='black'))"
      ]
     },
     "metadata": {},
     "output_type": "display_data"
    },
    {
     "data": {
      "application/vnd.jupyter.widget-view+json": {
       "model_id": "7ce04c581ff54816b3940f26a0f8de71",
       "version_major": 2,
       "version_minor": 0
      },
      "text/plain": [
       "FloatProgress(value=0.0, layout=Layout(width='auto'), style=ProgressStyle(bar_color='black'))"
      ]
     },
     "metadata": {},
     "output_type": "display_data"
    },
    {
     "data": {
      "application/vnd.jupyter.widget-view+json": {
       "model_id": "444d74774a22423ca3c642f2721dc94d",
       "version_major": 2,
       "version_minor": 0
      },
      "text/plain": [
       "FloatProgress(value=0.0, layout=Layout(width='auto'), style=ProgressStyle(bar_color='black'))"
      ]
     },
     "metadata": {},
     "output_type": "display_data"
    },
    {
     "name": "stdout",
     "output_type": "stream",
     "text": [
      "\n",
      "--- Partition Timing Metrics ---\n",
      "Partition A: 2.52s\n",
      "Partition B: 3.22s\n",
      "Partition C: 3.26s\n",
      "Partition D: 1.38s\n",
      "Partition E: 0.16s\n",
      "Partition other: 0.02s\n",
      "    Processed 244,057 games.\n",
      "    Updated stats for 228,455 player-opening combinations (partitioned by ECO letter).\n",
      "\n",
      "--- Batch Timing Metrics ---\n",
      "filter_valid_games: 0.36s\n",
      "extract_players_openings: 0.08s\n",
      "insert_entities: 0.11s\n",
      "aggregate_stats: 0.15s\n",
      "bulk_upsert: 10.57s\n",
      "    Batch processed in 14.10s.\n",
      "    File ETA: 00:00:00\n",
      "\n",
      "File Processing Summary:\n",
      "  total_games: 1408988\n",
      "  total_time_sec: 14.218663930892944\n",
      "  avg_batch_time_sec: 14.095444917678833\n",
      "  min_batch_time_sec: 14.095444917678833\n",
      "  max_batch_time_sec: 14.095444917678833\n",
      "  avg_batch_size: 1408988.0\n",
      "  overall_rate_games_per_sec: 99094.26137702618\n",
      "  memory_usage: [{'percent': 46.9, 'used_gb': 14.879318237304688, 'available_gb': 16.993030548095703}]\n",
      "  accepted_games: 244057\n",
      "  filtered_games: 1164931\n",
      "  acceptance_rate_percent: 17.3\n",
      "Running VACUUM on the database...\n",
      "VACUUM complete. Elapsed time: 0.00 seconds.\n",
      "VACUUM took 0.00 seconds for this file.\n",
      "Database connection closed.\n",
      "\n",
      "--- Detailed Timing Metrics ---\n",
      "metadata_retrieval: 0.12s\n",
      "batch_query_1: 2.79s\n",
      "batch_processing_1: 11.31s\n",
      "vacuum: 0.00s\n",
      "PROCESSING SUCCESSFUL for 2025-03-train-00008-of-00065.parquet\n",
      "Registered file as processed.\n",
      "Deleted local file: 2025-03-train-00008-of-00065.parquet\n",
      "\n",
      "--- Downloading [10/10] ---\n",
      "File saved to ../data/raw/better_downloading_experiments/2025-03-train-00009-of-00065.parquet\n",
      "Successfully downloaded: 2025-03-train-00009-of-00065.parquet\n",
      "Processing 1,408,852 rows in 1 batches of size 1,500,000\n",
      "\n",
      "--- Starting Batch 1/1 ---\n"
     ]
    },
    {
     "data": {
      "application/vnd.jupyter.widget-view+json": {
       "model_id": "5c313c24511842f1aaa336a48424b317",
       "version_major": 2,
       "version_minor": 0
      },
      "text/plain": [
       "FloatProgress(value=0.0, layout=Layout(width='auto'), style=ProgressStyle(bar_color='black'))"
      ]
     },
     "metadata": {},
     "output_type": "display_data"
    },
    {
     "data": {
      "application/vnd.jupyter.widget-view+json": {
       "model_id": "11329b8378e440848757664528d2b740",
       "version_major": 2,
       "version_minor": 0
      },
      "text/plain": [
       "FloatProgress(value=0.0, layout=Layout(width='auto'), style=ProgressStyle(bar_color='black'))"
      ]
     },
     "metadata": {},
     "output_type": "display_data"
    },
    {
     "data": {
      "application/vnd.jupyter.widget-view+json": {
       "model_id": "965a83753ae54ae8bcb0c7788be05482",
       "version_major": 2,
       "version_minor": 0
      },
      "text/plain": [
       "FloatProgress(value=0.0, layout=Layout(width='auto'), style=ProgressStyle(bar_color='black'))"
      ]
     },
     "metadata": {},
     "output_type": "display_data"
    },
    {
     "data": {
      "application/vnd.jupyter.widget-view+json": {
       "model_id": "1d535938fe0d40edb72d739be0f42350",
       "version_major": 2,
       "version_minor": 0
      },
      "text/plain": [
       "FloatProgress(value=0.0, layout=Layout(width='auto'), style=ProgressStyle(bar_color='black'))"
      ]
     },
     "metadata": {},
     "output_type": "display_data"
    },
    {
     "name": "stdout",
     "output_type": "stream",
     "text": [
      "\n",
      "--- Partition Timing Metrics ---\n",
      "Partition A: 2.59s\n",
      "Partition B: 3.31s\n",
      "Partition C: 3.56s\n",
      "Partition D: 1.36s\n",
      "Partition E: 0.15s\n",
      "Partition other: 0.02s\n",
      "    Processed 263,027 games.\n",
      "    Updated stats for 248,906 player-opening combinations (partitioned by ECO letter).\n",
      "\n",
      "--- Batch Timing Metrics ---\n",
      "filter_valid_games: 0.28s\n",
      "extract_players_openings: 0.04s\n",
      "insert_entities: 0.10s\n",
      "aggregate_stats: 0.15s\n",
      "bulk_upsert: 10.99s\n",
      "    Batch processed in 14.53s.\n",
      "    File ETA: 00:00:00\n",
      "\n",
      "File Processing Summary:\n",
      "  total_games: 1408852\n",
      "  total_time_sec: 14.679245948791504\n",
      "  avg_batch_time_sec: 14.531150817871094\n",
      "  min_batch_time_sec: 14.531150817871094\n",
      "  max_batch_time_sec: 14.531150817871094\n",
      "  avg_batch_size: 1408852.0\n",
      "  overall_rate_games_per_sec: 95975.77456735687\n",
      "  memory_usage: [{'percent': 47.2, 'used_gb': 14.964763641357422, 'available_gb': 16.880130767822266}]\n",
      "  accepted_games: 263027\n",
      "  filtered_games: 1145825\n",
      "  acceptance_rate_percent: 18.7\n",
      "Running VACUUM on the database...\n",
      "VACUUM complete. Elapsed time: 0.00 seconds.\n",
      "VACUUM took 0.00 seconds for this file.\n",
      "Database connection closed.\n",
      "\n",
      "--- Detailed Timing Metrics ---\n",
      "metadata_retrieval: 0.15s\n",
      "batch_query_1: 2.93s\n",
      "batch_processing_1: 11.60s\n",
      "vacuum: 0.00s\n",
      "PROCESSING SUCCESSFUL for 2025-03-train-00009-of-00065.parquet\n",
      "Registered file as processed.\n",
      "Deleted local file: 2025-03-train-00009-of-00065.parquet\n",
      "\n",
      "--- Timing Summary ---\n",
      "Download - Avg: 0.44s, Max: 0.50s, Min: 0.40s\n",
      "Process - Avg: 15.18s, Max: 16.52s, Min: 14.55s\n",
      "Register_delete - Avg: 0.03s, Max: 0.03s, Min: 0.03s\n",
      "Total elapsed time: 157.12s\n"
     ]
    }
   ],
   "source": [
    "import time\n",
    "import os\n",
    "from collections import defaultdict\n",
    "from statistics import mean\n",
    "# --- Timing Stats ---\n",
    "timing_stats = defaultdict(list)\n",
    "total_start_time = time.time()\n",
    "\n",
    "for i, file_to_download in enumerate(files_to_download):\n",
    "    print(f\"\\n--- Downloading [{i+1}/{len(files_to_download)}] ---\")\n",
    "    step_start_time = time.time()\n",
    "\n",
    "    # 1. Download the file\n",
    "    downloaded_file_path = download_single_parquet_file(\n",
    "        repo_id=\"Lichess/standard-chess-games\",\n",
    "        repo_type=\"dataset\",\n",
    "        file_to_download=file_to_download,\n",
    "        local_dir=local_dir,\n",
    "        year=year,\n",
    "        month=month,\n",
    "    )\n",
    "\n",
    "    timing_stats['download'].append(time.time() - step_start_time)\n",
    "    if not downloaded_file_path:\n",
    "        print(f\"DOWNLOAD FAILED for {file_to_download}. Skipping.\")\n",
    "        continue\n",
    "\n",
    "    print(f\"Successfully downloaded: {downloaded_file_path.name}\")\n",
    "\n",
    "    # Get metadata for the downloaded file\n",
    "    url = hf_hub_url(\n",
    "        repo_id=\"Lichess/standard-chess-games\",\n",
    "        repo_type=\"dataset\",\n",
    "        filename=file_to_download,\n",
    "    )\n",
    "    meta = get_hf_file_metadata(url=url)\n",
    "\n",
    "    # 2. Process the file\n",
    "    step_start_time = time.time()\n",
    "    file_config = base_config.replace(parquet_path=str(downloaded_file_path))\n",
    "    file_context = {\n",
    "        \"current_file_num\": i + 1,\n",
    "        \"total_files\": len(files_to_download),\n",
    "        \"total_start_time\": total_start_time,\n",
    "    }\n",
    "    is_processing_successful = process_parquet_file(\n",
    "        config=file_config,\n",
    "        eligible_players=eligible_players,\n",
    "        file_context=file_context,\n",
    "    )\n",
    "    timing_stats['process'].append(time.time() - step_start_time)\n",
    "\n",
    "    # 3. Register and Delete on Success\n",
    "    step_start_time = time.time()\n",
    "    if is_processing_successful:\n",
    "        print(f\"PROCESSING SUCCESSFUL for {downloaded_file_path.name}\")\n",
    "        registry.mark_file_processed(\n",
    "            month=f\"{year}-{month}\",\n",
    "            filename=downloaded_file_path.name,\n",
    "            size=meta.size,\n",
    "            etag=meta.etag,\n",
    "        )\n",
    "        print(\"Registered file as processed.\")\n",
    "        os.remove(downloaded_file_path)\n",
    "        print(f\"Deleted local file: {downloaded_file_path.name}\")\n",
    "    else:\n",
    "        print(f\"PROCESSING FAILED for {downloaded_file_path.name}\")\n",
    "        registry.mark_file_processed(\n",
    "            month=f\"{year}-{month}\",\n",
    "            filename=downloaded_file_path.name,\n",
    "            size=meta.size,\n",
    "            etag=meta.etag,\n",
    "        )\n",
    "        print(\"Registered file as processed to avoid re-downloading.\")\n",
    "        os.remove(downloaded_file_path)\n",
    "        print(f\"Deleted local file: {downloaded_file_path.name}\")\n",
    "    timing_stats['register_delete'].append(time.time() - step_start_time)\n",
    "\n",
    "# --- Summary ---\n",
    "print(\"\\n--- Timing Summary ---\")\n",
    "for step, times in timing_stats.items():\n",
    "    print(f\"{step.capitalize()} - Avg: {mean(times):.2f}s, Max: {max(times):.2f}s, Min: {min(times):.2f}s\")\n",
    "total_elapsed_time = time.time() - total_start_time\n",
    "print(f\"Total elapsed time: {total_elapsed_time:.2f}s\")"
   ]
  }
 ],
 "metadata": {
  "kernelspec": {
   "display_name": ".venv",
   "language": "python",
   "name": "python3"
  },
  "language_info": {
   "codemirror_mode": {
    "name": "ipython",
    "version": 3
   },
   "file_extension": ".py",
   "mimetype": "text/x-python",
   "name": "python",
   "nbconvert_exporter": "python",
   "pygments_lexer": "ipython3",
   "version": "3.12.9"
  }
 },
 "nbformat": 4,
 "nbformat_minor": 5
}
