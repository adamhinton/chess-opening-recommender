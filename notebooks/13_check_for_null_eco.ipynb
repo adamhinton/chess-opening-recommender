{
 "cells": [
  {
   "cell_type": "markdown",
   "id": "41373bf1",
   "metadata": {},
   "source": [
    "# Check for Null ECO Codes in Parquet File\n",
    "This notebook will scan a single parquet file to identify and display any games that have a null `ECO` (Encyclopaedia of Chess Openings) code. This is useful for data cleaning and ensuring data quality."
   ]
  },
  {
   "cell_type": "code",
   "execution_count": null,
   "id": "54a77984",
   "metadata": {},
   "outputs": [],
   "source": [
    "import duckdb\n",
    "import pandas as pd\n",
    "from pathlib import Path\n",
    "\n",
    "# Define the path to the parquet file\n",
    "# The notebook is in notebooks/, so we go up one level to the project root\n",
    "project_root = Path.cwd().parent\n",
    "file_path = project_root / \"data\" / \"raw\" / \"train-00000-of-00066.parquet\"\n",
    "\n",
    "print(f\"Searching for games with null ECO in: {file_path}\")\n",
    "\n",
    "# Establish a connection to DuckDB\n",
    "con = duckdb.connect()\n",
    "\n",
    "# Query to find games with null 'ECO'\n",
    "# Exclude UTCTime and UTCDate to avoid issues with unsupported data types\n",
    "query = f\"\"\"\n",
    "SELECT * EXCLUDE (UTCTime, UTCDate)\n",
    "FROM '{file_path}'\n",
    "WHERE ECO IS NULL\n",
    "\"\"\"\n",
    "\n",
    "try:\n",
    "    # Execute the query and fetch results into a pandas DataFrame\n",
    "    null_eco_games_df = con.execute(query).df()\n",
    "\n",
    "    null_eco_game_count = len(null_eco_games_df)\n",
    "\n",
    "    if null_eco_game_count > 0:\n",
    "        print(f\"Found {null_eco_game_count} games with null ECO codes. Details below:\")\n",
    "        # Print details for each game with a null ECO\n",
    "        for index, row in null_eco_games_df.iterrows():\n",
    "            print(\"\\n--- Game Details ---\")\n",
    "            print(row)\n",
    "            print(\"--------------------\")\n",
    "    else:\n",
    "        print(\"No games with null ECO codes were found in this file.\")\n",
    "\n",
    "    print(f\"\\nTotal number of games with null ECO found: {null_eco_game_count}\")\n",
    "\n",
    "except Exception as e:\n",
    "    print(f\"An error occurred: {e}\")\n",
    "\n",
    "finally:\n",
    "    # Close the DuckDB connection\n",
    "    con.close()"
   ]
  }
 ],
 "metadata": {
  "language_info": {
   "name": "python"
  }
 },
 "nbformat": 4,
 "nbformat_minor": 5
}
