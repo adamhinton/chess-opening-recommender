{
 "cells": [
  {
   "cell_type": "markdown",
   "id": "bd3d7bd7",
   "metadata": {},
   "source": [
    "# Filtering Unneeded Openings\n",
    "\n",
    "## Purpose\n",
    "- To understand which openings in the DB may not be helpful for processing.\n",
    "\n",
    "## Possible Filters\n",
    "- Very large or small win rates - likely just a bad opening for one side, no need to recommend it\n",
    "- Extremely rare openings - not enough data to give recommendations\n"
   ]
  },
  {
   "cell_type": "markdown",
   "id": "a737bd45",
   "metadata": {},
   "source": []
  }
 ],
 "metadata": {
  "language_info": {
   "name": "python"
  }
 },
 "nbformat": 4,
 "nbformat_minor": 5
}
